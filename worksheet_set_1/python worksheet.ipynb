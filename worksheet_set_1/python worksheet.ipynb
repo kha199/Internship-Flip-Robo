{
 "cells": [
  {
   "cell_type": "markdown",
   "id": "8ffc4d74",
   "metadata": {},
   "source": [
    "# PYTHON WORKSHEET"
   ]
  },
  {
   "cell_type": "markdown",
   "id": "4dda4ebf",
   "metadata": {},
   "source": [
    "Q.11"
   ]
  },
  {
   "cell_type": "code",
   "execution_count": 1,
   "id": "bbfb8502",
   "metadata": {},
   "outputs": [
    {
     "name": "stdout",
     "output_type": "stream",
     "text": [
      "Enter number:6\n",
      "Factorial= 720\n"
     ]
    }
   ],
   "source": [
    "i=int(input(\"Enter number:\"))\n",
    "fact=1\n",
    "while(i>0):\n",
    "    fact=fact*i\n",
    "    i=i-1\n",
    "print(\"Factorial=\",fact)"
   ]
  },
  {
   "cell_type": "markdown",
   "id": "a471af91",
   "metadata": {},
   "source": [
    "Q.12"
   ]
  },
  {
   "cell_type": "code",
   "execution_count": 2,
   "id": "6d29f303",
   "metadata": {},
   "outputs": [
    {
     "name": "stdout",
     "output_type": "stream",
     "text": [
      "Enter Number: 31\n",
      "Prime Number\n"
     ]
    }
   ],
   "source": [
    "n=int(input(\"Enter Number: \"))\n",
    "count=0\n",
    "i=1\n",
    "while(i<=n):\n",
    "    if(n%i==0):\n",
    "        count=count+1\n",
    "    i=i+1\n",
    "if(count==2):\n",
    "    print(\"Prime Number\")\n",
    "else:\n",
    "    print(\"Composite Number\")"
   ]
  },
  {
   "cell_type": "markdown",
   "id": "08f349e5",
   "metadata": {},
   "source": [
    "Q.13"
   ]
  },
  {
   "cell_type": "code",
   "execution_count": 3,
   "id": "7a3be1d4",
   "metadata": {},
   "outputs": [
    {
     "name": "stdout",
     "output_type": "stream",
     "text": [
      "Enter String: civic\n",
      "String Palindrome\n"
     ]
    }
   ],
   "source": [
    "str=input(\"Enter String: \")\n",
    "revstr=(str[::-1])\n",
    "if revstr==str:\n",
    "    print(\"String Palindrome\")\n",
    "else:\n",
    "    print(\"String Not Palindrome\")"
   ]
  },
  {
   "cell_type": "markdown",
   "id": "07fda17b",
   "metadata": {},
   "source": [
    "Q.14"
   ]
  },
  {
   "cell_type": "code",
   "execution_count": 4,
   "id": "1e840be8",
   "metadata": {},
   "outputs": [
    {
     "name": "stdout",
     "output_type": "stream",
     "text": [
      "Side a= 5\n",
      "Side b= 7\n",
      "The third side of right-angled triangle=  8.602325267042627\n"
     ]
    }
   ],
   "source": [
    "from math import sqrt\n",
    "\n",
    "a=int(input(\"Side a=\"))\n",
    "b=int(input(\"Side b=\"))\n",
    "c=sqrt(a**2+b**2)\n",
    "\n",
    "print(\"The third side of right-angled triangle= \",c)"
   ]
  },
  {
   "cell_type": "markdown",
   "id": "c94ddcb0",
   "metadata": {},
   "source": [
    "Q.15"
   ]
  },
  {
   "cell_type": "code",
   "execution_count": 5,
   "id": "a35e3958",
   "metadata": {},
   "outputs": [
    {
     "name": "stdout",
     "output_type": "stream",
     "text": [
      "Enter String:MY NAME IS TANVEER\n",
      "{'M': 2, 'Y': 1, ' ': 3, 'N': 2, 'A': 2, 'E': 3, 'I': 1, 'S': 1, 'T': 1, 'V': 1, 'R': 1}\n"
     ]
    }
   ],
   "source": [
    "str=input(\"Enter String:\")\n",
    "d=dict()\n",
    "for c in str:\n",
    "    if c in d:\n",
    "        d[c]=d[c]+1\n",
    "    else:\n",
    "        d[c]=1\n",
    "print(d)"
   ]
  }
 ],
 "metadata": {
  "kernelspec": {
   "display_name": "Python 3",
   "language": "python",
   "name": "python3"
  },
  "language_info": {
   "codemirror_mode": {
    "name": "ipython",
    "version": 3
   },
   "file_extension": ".py",
   "mimetype": "text/x-python",
   "name": "python",
   "nbconvert_exporter": "python",
   "pygments_lexer": "ipython3",
   "version": "3.8.8"
  }
 },
 "nbformat": 4,
 "nbformat_minor": 5
}

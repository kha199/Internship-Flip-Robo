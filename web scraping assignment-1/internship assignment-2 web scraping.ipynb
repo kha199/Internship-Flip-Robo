{
 "cells": [
  {
   "cell_type": "code",
   "execution_count": 2,
   "metadata": {},
   "outputs": [],
   "source": [
    "import pandas as pd\n",
    "import numpy as np"
   ]
  },
  {
   "cell_type": "markdown",
   "metadata": {},
   "source": [
    "# 1) header tags"
   ]
  },
  {
   "cell_type": "code",
   "execution_count": 1,
   "metadata": {},
   "outputs": [],
   "source": [
    "from bs4 import BeautifulSoup\n",
    "import requests"
   ]
  },
  {
   "cell_type": "code",
   "execution_count": 3,
   "metadata": {},
   "outputs": [],
   "source": [
    "wikipedia_page = requests.get('https://en.wikipedia.org/wiki/Main_Page')"
   ]
  },
  {
   "cell_type": "code",
   "execution_count": 4,
   "metadata": {},
   "outputs": [
    {
     "data": {
      "text/plain": [
       "<Response [200]>"
      ]
     },
     "execution_count": 4,
     "metadata": {},
     "output_type": "execute_result"
    }
   ],
   "source": [
    "wikipedia_page"
   ]
  },
  {
   "cell_type": "code",
   "execution_count": 5,
   "metadata": {},
   "outputs": [],
   "source": [
    "soup_wikipedia = BeautifulSoup(wikipedia_page.content)"
   ]
  },
  {
   "cell_type": "code",
   "execution_count": 6,
   "metadata": {},
   "outputs": [
    {
     "data": {
      "text/plain": [
       "['Main Page', 'Welcome to Wikipedia']"
      ]
     },
     "execution_count": 6,
     "metadata": {},
     "output_type": "execute_result"
    }
   ],
   "source": [
    "h1_tags = []\n",
    "\n",
    "for i in soup_wikipedia.find_all('h1'):\n",
    "    h1_tags.append(i.text)\n",
    "    \n",
    "    \n",
    "h1_tags"
   ]
  },
  {
   "cell_type": "code",
   "execution_count": 7,
   "metadata": {},
   "outputs": [
    {
     "data": {
      "text/plain": [
       "[\"From today's featured article\",\n",
       " 'Did you know\\xa0...',\n",
       " 'In the news',\n",
       " 'On this day',\n",
       " \"Today's featured picture\",\n",
       " 'Other areas of Wikipedia',\n",
       " \"Wikipedia's sister projects\",\n",
       " 'Wikipedia languages',\n",
       " 'Navigation menu']"
      ]
     },
     "execution_count": 7,
     "metadata": {},
     "output_type": "execute_result"
    }
   ],
   "source": [
    "h2_tags = []\n",
    "\n",
    "for i in soup_wikipedia.find_all('h2'):\n",
    "    h2_tags.append(i.text)\n",
    "    \n",
    "    \n",
    "h2_tags"
   ]
  },
  {
   "cell_type": "code",
   "execution_count": 8,
   "metadata": {},
   "outputs": [
    {
     "data": {
      "text/plain": [
       "['Search']"
      ]
     },
     "execution_count": 8,
     "metadata": {},
     "output_type": "execute_result"
    }
   ],
   "source": [
    "h3_tags = []\n",
    "\n",
    "for i in soup_wikipedia.find_all('h3'):\n",
    "    h3_tags.append(i.text.split('\\n')[1])\n",
    "    \n",
    "    \n",
    "h3_tags"
   ]
  },
  {
   "cell_type": "markdown",
   "metadata": {},
   "source": [
    "# 2) IMDB'S Top rated 100 movies"
   ]
  },
  {
   "cell_type": "code",
   "execution_count": 9,
   "metadata": {},
   "outputs": [
    {
     "data": {
      "text/plain": [
       "<Response [200]>"
      ]
     },
     "execution_count": 9,
     "metadata": {},
     "output_type": "execute_result"
    }
   ],
   "source": [
    "Imdb = requests.get('https://www.imdb.com/list/ls063915608/')\n",
    "Imdb"
   ]
  },
  {
   "cell_type": "code",
   "execution_count": 10,
   "metadata": {},
   "outputs": [],
   "source": [
    "soup_Imdb = BeautifulSoup(Imdb.content)"
   ]
  },
  {
   "cell_type": "code",
   "execution_count": 11,
   "metadata": {},
   "outputs": [
    {
     "data": {
      "text/plain": [
       "['Rang De Basanti',\n",
       " 'Lagaan: Once Upon a Time in India',\n",
       " 'Dil Chahta Hai',\n",
       " 'Gangs of Wasseypur',\n",
       " 'Zindagi Na Milegi Dobara',\n",
       " '3 Idiots',\n",
       " 'Swades: We, the People',\n",
       " 'Paan Singh Tomar',\n",
       " 'Salaam Bombay!',\n",
       " 'Bhaag Milkha Bhaag',\n",
       " 'A Wednesday',\n",
       " 'Barfi!',\n",
       " 'Dev.D',\n",
       " 'Gangs of Wasseypur',\n",
       " 'Piku',\n",
       " 'Taare Zameen Par',\n",
       " 'Munna Bhai M.B.B.S.',\n",
       " 'Vicky Donor',\n",
       " 'Drishyam',\n",
       " 'Hera Pheri',\n",
       " 'Andaz Apna Apna',\n",
       " 'Gangaajal',\n",
       " 'Once Upon a Time in Mumbaai',\n",
       " 'Raajneeti',\n",
       " 'Special Chabbis',\n",
       " 'Masaan',\n",
       " 'Ankhon Dekhi',\n",
       " 'Parched',\n",
       " 'Udaan',\n",
       " 'PK',\n",
       " 'Oye Lucky! Lucky Oye!',\n",
       " 'Ship of Theseus',\n",
       " 'Kahaani',\n",
       " 'Maqbool',\n",
       " 'Bandit Queen',\n",
       " 'Black Friday',\n",
       " 'Omkara',\n",
       " 'Queen',\n",
       " 'Shahid',\n",
       " 'The Lunchbox',\n",
       " 'Dangal',\n",
       " 'Chak De! India',\n",
       " 'Black',\n",
       " 'Guru',\n",
       " 'My Name Is Khan',\n",
       " 'Manjhi: The Mountain Man',\n",
       " 'Satya',\n",
       " 'Paa',\n",
       " 'Raincoat',\n",
       " 'The Legend of Bhagat Singh',\n",
       " 'Apaharan',\n",
       " 'OMG: Oh My God!',\n",
       " 'Shool',\n",
       " 'Talvar',\n",
       " 'Wake Up Sid',\n",
       " 'Sholay',\n",
       " 'Haider',\n",
       " 'Mumbai Meri Jaan',\n",
       " 'Jo Jeeta Wohi Sikandar',\n",
       " 'Lage Raho Munna Bhai',\n",
       " 'Dum Laga Ke Haisha',\n",
       " 'Rockstar',\n",
       " 'Dilwale Dulhania Le Jayenge',\n",
       " 'English Vinglish',\n",
       " 'Ghajini',\n",
       " 'Devdas',\n",
       " 'Jab We Met',\n",
       " 'Pink',\n",
       " 'Ugly',\n",
       " 'Rock On!!',\n",
       " 'Jodhaa Akbar',\n",
       " 'Peepli [Live]',\n",
       " 'Company',\n",
       " 'Damini',\n",
       " 'Gulaal',\n",
       " 'Udta Punjab',\n",
       " 'Madras Cafe',\n",
       " 'Lootera',\n",
       " 'Bãhubali: The Beginning',\n",
       " 'Fashion',\n",
       " 'Sarfarosh',\n",
       " 'Kai po che!',\n",
       " 'Raanjhanaa',\n",
       " 'Bajirao Mastani',\n",
       " 'Zakhm',\n",
       " 'Virasat',\n",
       " 'Stanley Ka Dabba',\n",
       " 'Darr',\n",
       " 'Guzaarish',\n",
       " 'Namastey London',\n",
       " 'Nayak: The Real Hero',\n",
       " 'Khakee',\n",
       " 'Delhi Belly',\n",
       " 'Gadar: Ek Prem Katha',\n",
       " 'Veer-Zaara',\n",
       " 'Kuch Kuch Hota Hai',\n",
       " 'Dhamaal',\n",
       " 'Golmaal: Fun Unlimited',\n",
       " 'Aligarh',\n",
       " 'Earth']"
      ]
     },
     "execution_count": 11,
     "metadata": {},
     "output_type": "execute_result"
    }
   ],
   "source": [
    "Name = []\n",
    "\n",
    "for i in soup_Imdb.find_all('h3',class_='lister-item-header'):\n",
    "    Name.append(i.text.split('\\n')[2])\n",
    "    \n",
    "Name"
   ]
  },
  {
   "cell_type": "code",
   "execution_count": 12,
   "metadata": {},
   "outputs": [
    {
     "data": {
      "text/plain": [
       "['8.1',\n",
       " '8.1',\n",
       " '8.1',\n",
       " '8.2',\n",
       " '8.2',\n",
       " '8.5',\n",
       " '8.3',\n",
       " '8.2',\n",
       " '7.9',\n",
       " '8.3',\n",
       " '8.1',\n",
       " '8.2',\n",
       " '8',\n",
       " '8.2',\n",
       " '7.6',\n",
       " '8.4',\n",
       " '8.1',\n",
       " '7.8',\n",
       " '8.2',\n",
       " '8.1',\n",
       " '8.1',\n",
       " '7.8',\n",
       " '7.4',\n",
       " '7.1',\n",
       " '8.1',\n",
       " '8.1',\n",
       " '8',\n",
       " '7.5',\n",
       " '8.1',\n",
       " '8.2',\n",
       " '7.7',\n",
       " '8',\n",
       " '8.1',\n",
       " '8.1',\n",
       " '7.5',\n",
       " '8.5',\n",
       " '8.1',\n",
       " '8.2',\n",
       " '8.3',\n",
       " '7.8',\n",
       " '8.4',\n",
       " '8.2',\n",
       " '8.2',\n",
       " '7.7',\n",
       " '8',\n",
       " '8',\n",
       " '8.3',\n",
       " '7.1',\n",
       " '7.7',\n",
       " '8.2',\n",
       " '7.4',\n",
       " '8.2',\n",
       " '7.7',\n",
       " '8.1',\n",
       " '7.6',\n",
       " '8.1',\n",
       " '8.1',\n",
       " '7.7',\n",
       " '8.2',\n",
       " '8.1',\n",
       " '7.5',\n",
       " '7.8',\n",
       " '8.2',\n",
       " '7.9',\n",
       " '7.4',\n",
       " '7.6',\n",
       " '7.9',\n",
       " '8.1',\n",
       " '8',\n",
       " '7.8',\n",
       " '7.6',\n",
       " '7.4',\n",
       " '8',\n",
       " '7.9',\n",
       " '8',\n",
       " '7.8',\n",
       " '7.7',\n",
       " '7.4',\n",
       " '8.1',\n",
       " '6.9',\n",
       " '8.1',\n",
       " '7.9',\n",
       " '7.6',\n",
       " '7.3',\n",
       " '7.9',\n",
       " '7.4',\n",
       " '7.9',\n",
       " '7.9',\n",
       " '7.5',\n",
       " '7.2',\n",
       " '7.8',\n",
       " '7.5',\n",
       " '7.6',\n",
       " '7.3',\n",
       " '7.9',\n",
       " '7.7',\n",
       " '7.4',\n",
       " '7.4',\n",
       " '7.8',\n",
       " '7.7']"
      ]
     },
     "execution_count": 12,
     "metadata": {},
     "output_type": "execute_result"
    }
   ],
   "source": [
    "Rating = []\n",
    "\n",
    "for i in soup_Imdb.find_all('div',class_='ipl-rating-widget'):\n",
    "    Rating.append(i.text.split('\\n')[9])\n",
    "    \n",
    "Rating"
   ]
  },
  {
   "cell_type": "code",
   "execution_count": 13,
   "metadata": {},
   "outputs": [
    {
     "data": {
      "text/plain": [
       "['2006',\n",
       " '2001',\n",
       " '2001',\n",
       " '2012',\n",
       " '2011',\n",
       " '2009',\n",
       " '2004',\n",
       " '2012',\n",
       " '1988',\n",
       " '2013',\n",
       " '2008',\n",
       " '2012',\n",
       " '2009',\n",
       " '2012',\n",
       " '2015',\n",
       " '2007',\n",
       " '2003',\n",
       " '2012',\n",
       " '2015',\n",
       " '2000',\n",
       " '1994',\n",
       " '2003',\n",
       " '2010',\n",
       " '2010',\n",
       " '2013',\n",
       " '2015',\n",
       " '2013',\n",
       " '2015',\n",
       " '2010',\n",
       " '2014',\n",
       " '2008',\n",
       " '2012',\n",
       " '2012',\n",
       " '2003',\n",
       " '1994',\n",
       " '2004',\n",
       " '2006',\n",
       " '2013',\n",
       " '2012',\n",
       " '2013',\n",
       " '2016',\n",
       " '2007',\n",
       " '2005',\n",
       " '2007',\n",
       " '2010',\n",
       " '2015',\n",
       " '1998',\n",
       " '2009',\n",
       " '2004',\n",
       " '2002',\n",
       " '2005',\n",
       " '2012',\n",
       " '1999',\n",
       " '2015',\n",
       " '2009',\n",
       " '1975',\n",
       " '2014',\n",
       " '2008',\n",
       " '1992',\n",
       " '2006',\n",
       " '2015',\n",
       " '2011',\n",
       " '1995',\n",
       " '2012',\n",
       " '2008',\n",
       " 'I 2002',\n",
       " '2007',\n",
       " 'III 2016',\n",
       " '2013',\n",
       " '2008',\n",
       " '2008',\n",
       " '2010',\n",
       " '2002',\n",
       " '1993',\n",
       " '2009',\n",
       " '2016',\n",
       " '2013',\n",
       " 'I 2013',\n",
       " '2015',\n",
       " '2008',\n",
       " '1999',\n",
       " '2013',\n",
       " '2013',\n",
       " '2015',\n",
       " '1998',\n",
       " '1997',\n",
       " '2011',\n",
       " '1993',\n",
       " '2010',\n",
       " '2007',\n",
       " '2001',\n",
       " '2004',\n",
       " '2011',\n",
       " '2001',\n",
       " '2004',\n",
       " '1998',\n",
       " '2007',\n",
       " '2006',\n",
       " '2015',\n",
       " '1998']"
      ]
     },
     "execution_count": 13,
     "metadata": {},
     "output_type": "execute_result"
    }
   ],
   "source": [
    "Year = []\n",
    "\n",
    "for i in soup_Imdb.find_all('span',class_='lister-item-year text-muted unbold'):\n",
    "    Year.append(i.text.replace(')','').replace('(',''))\n",
    "    \n",
    "    \n",
    "Year"
   ]
  },
  {
   "cell_type": "code",
   "execution_count": 14,
   "metadata": {},
   "outputs": [
    {
     "data": {
      "text/html": [
       "<div>\n",
       "<style scoped>\n",
       "    .dataframe tbody tr th:only-of-type {\n",
       "        vertical-align: middle;\n",
       "    }\n",
       "\n",
       "    .dataframe tbody tr th {\n",
       "        vertical-align: top;\n",
       "    }\n",
       "\n",
       "    .dataframe thead th {\n",
       "        text-align: right;\n",
       "    }\n",
       "</style>\n",
       "<table border=\"1\" class=\"dataframe\">\n",
       "  <thead>\n",
       "    <tr style=\"text-align: right;\">\n",
       "      <th></th>\n",
       "      <th>Name</th>\n",
       "      <th>Rating</th>\n",
       "      <th>Year_of_Release</th>\n",
       "    </tr>\n",
       "  </thead>\n",
       "  <tbody>\n",
       "    <tr>\n",
       "      <th>0</th>\n",
       "      <td>Rang De Basanti</td>\n",
       "      <td>8.1</td>\n",
       "      <td>2006</td>\n",
       "    </tr>\n",
       "    <tr>\n",
       "      <th>1</th>\n",
       "      <td>Lagaan: Once Upon a Time in India</td>\n",
       "      <td>8.1</td>\n",
       "      <td>2001</td>\n",
       "    </tr>\n",
       "    <tr>\n",
       "      <th>2</th>\n",
       "      <td>Dil Chahta Hai</td>\n",
       "      <td>8.1</td>\n",
       "      <td>2001</td>\n",
       "    </tr>\n",
       "    <tr>\n",
       "      <th>3</th>\n",
       "      <td>Gangs of Wasseypur</td>\n",
       "      <td>8.2</td>\n",
       "      <td>2012</td>\n",
       "    </tr>\n",
       "    <tr>\n",
       "      <th>4</th>\n",
       "      <td>Zindagi Na Milegi Dobara</td>\n",
       "      <td>8.2</td>\n",
       "      <td>2011</td>\n",
       "    </tr>\n",
       "    <tr>\n",
       "      <th>...</th>\n",
       "      <td>...</td>\n",
       "      <td>...</td>\n",
       "      <td>...</td>\n",
       "    </tr>\n",
       "    <tr>\n",
       "      <th>95</th>\n",
       "      <td>Kuch Kuch Hota Hai</td>\n",
       "      <td>7.7</td>\n",
       "      <td>1998</td>\n",
       "    </tr>\n",
       "    <tr>\n",
       "      <th>96</th>\n",
       "      <td>Dhamaal</td>\n",
       "      <td>7.4</td>\n",
       "      <td>2007</td>\n",
       "    </tr>\n",
       "    <tr>\n",
       "      <th>97</th>\n",
       "      <td>Golmaal: Fun Unlimited</td>\n",
       "      <td>7.4</td>\n",
       "      <td>2006</td>\n",
       "    </tr>\n",
       "    <tr>\n",
       "      <th>98</th>\n",
       "      <td>Aligarh</td>\n",
       "      <td>7.8</td>\n",
       "      <td>2015</td>\n",
       "    </tr>\n",
       "    <tr>\n",
       "      <th>99</th>\n",
       "      <td>Earth</td>\n",
       "      <td>7.7</td>\n",
       "      <td>1998</td>\n",
       "    </tr>\n",
       "  </tbody>\n",
       "</table>\n",
       "<p>100 rows × 3 columns</p>\n",
       "</div>"
      ],
      "text/plain": [
       "                                 Name Rating Year_of_Release\n",
       "0                     Rang De Basanti    8.1            2006\n",
       "1   Lagaan: Once Upon a Time in India    8.1            2001\n",
       "2                      Dil Chahta Hai    8.1            2001\n",
       "3                  Gangs of Wasseypur    8.2            2012\n",
       "4            Zindagi Na Milegi Dobara    8.2            2011\n",
       "..                                ...    ...             ...\n",
       "95                 Kuch Kuch Hota Hai    7.7            1998\n",
       "96                            Dhamaal    7.4            2007\n",
       "97             Golmaal: Fun Unlimited    7.4            2006\n",
       "98                            Aligarh    7.8            2015\n",
       "99                              Earth    7.7            1998\n",
       "\n",
       "[100 rows x 3 columns]"
      ]
     },
     "execution_count": 14,
     "metadata": {},
     "output_type": "execute_result"
    }
   ],
   "source": [
    "Top_movies = pd.DataFrame({'Name':Name,'Rating':Rating,'Year_of_Release':Year})\n",
    "Top_movies"
   ]
  },
  {
   "cell_type": "markdown",
   "metadata": {},
   "source": [
    "# 3) IMDB'S Top Indian Movies"
   ]
  },
  {
   "cell_type": "code",
   "execution_count": 15,
   "metadata": {},
   "outputs": [
    {
     "data": {
      "text/plain": [
       "<Response [200]>"
      ]
     },
     "execution_count": 15,
     "metadata": {},
     "output_type": "execute_result"
    }
   ],
   "source": [
    "Top_Indian_Movies = requests.get('https://www.imdb.com/list/ls009997493/')\n",
    "Top_Indian_Movies"
   ]
  },
  {
   "cell_type": "code",
   "execution_count": 16,
   "metadata": {},
   "outputs": [],
   "source": [
    "soup_indian_movies = BeautifulSoup(Top_Indian_Movies.content)"
   ]
  },
  {
   "cell_type": "code",
   "execution_count": 17,
   "metadata": {},
   "outputs": [
    {
     "data": {
      "text/plain": [
       "['Rang De Basanti',\n",
       " '3 Idiots',\n",
       " 'Taare Zameen Par',\n",
       " 'Dil Chahta Hai',\n",
       " 'Swades: We, the People',\n",
       " 'Lagaan: Once Upon a Time in India',\n",
       " 'Gangs of Wasseypur',\n",
       " 'Barfi!',\n",
       " 'Anand',\n",
       " 'Munna Bhai M.B.B.S.',\n",
       " 'A Wednesday',\n",
       " 'Andaz Apna Apna',\n",
       " 'Sholay',\n",
       " 'Bhaag Milkha Bhaag',\n",
       " 'Hera Pheri',\n",
       " 'Udaan',\n",
       " 'Kahaani',\n",
       " 'Black',\n",
       " 'Chak De! India',\n",
       " 'Khosla Ka Ghosla!',\n",
       " 'Jo Jeeta Wohi Sikandar',\n",
       " 'Zindagi Na Milegi Dobara',\n",
       " 'Paan Singh Tomar',\n",
       " 'Dilwale Dulhania Le Jayenge',\n",
       " 'Omkara',\n",
       " 'Lage Raho Munna Bhai',\n",
       " 'Iqbal',\n",
       " 'The Lunchbox',\n",
       " 'Black Friday',\n",
       " 'Company',\n",
       " 'Golmaal',\n",
       " 'Dev.D',\n",
       " 'Jaane Bhi Do Yaaro',\n",
       " 'OMG: Oh My God!',\n",
       " 'Mughal-E-Azam',\n",
       " 'Gulaal',\n",
       " 'Dor',\n",
       " 'Jab We Met',\n",
       " 'Pyaasa',\n",
       " 'The Legend of Bhagat Singh',\n",
       " 'Masoom',\n",
       " 'Salaam Bombay!',\n",
       " 'Satya',\n",
       " 'Vicky Donor',\n",
       " 'Lakshya',\n",
       " 'Vaastav: The Reality',\n",
       " 'Kal Ho Naa Ho',\n",
       " 'Oye Lucky! Lucky Oye!',\n",
       " 'Sarfarosh',\n",
       " 'Gangaajal',\n",
       " 'Angoor',\n",
       " 'Madras Cafe',\n",
       " 'English Vinglish',\n",
       " 'Chupke Chupke',\n",
       " 'Johnny Gaddaar',\n",
       " 'Maqbool',\n",
       " 'Hazaaron Khwaishein Aisi',\n",
       " 'Rock On!!',\n",
       " 'Don',\n",
       " 'Chhoti Si Baat',\n",
       " 'Guide',\n",
       " 'Raanjhanaa',\n",
       " 'Deewaar',\n",
       " 'Special Chabbis',\n",
       " 'Padosan',\n",
       " 'Mumbai Meri Jaan',\n",
       " 'Ab Tak Chhappan',\n",
       " 'Kai po che!',\n",
       " 'Awaara',\n",
       " 'Shree 420',\n",
       " 'Earth',\n",
       " 'Gunda',\n",
       " 'Parinda',\n",
       " 'Dasvidaniya',\n",
       " 'Hey Ram',\n",
       " 'Pinjar: Beyond Boundaries...',\n",
       " 'Socha Na Tha',\n",
       " 'Guru',\n",
       " 'Bawarchi',\n",
       " 'Manorama: Six Feet Under',\n",
       " 'Mr. India',\n",
       " 'Aamir',\n",
       " 'Zakhm',\n",
       " 'Water',\n",
       " 'Stanley Ka Dabba',\n",
       " 'Agneepath',\n",
       " 'My Name Is Khan',\n",
       " 'Qayamat Se Qayamat Tak',\n",
       " '3 Deewarein',\n",
       " 'Abhimaan',\n",
       " 'Sarkar',\n",
       " 'Bheja Fry',\n",
       " 'Mother India',\n",
       " 'Jaane Tu... Ya Jaane Na',\n",
       " 'Delhi Belly',\n",
       " 'Wake Up Sid',\n",
       " 'Rangeela',\n",
       " 'Shatranj Ke Khilari',\n",
       " 'Pyaar Ka Punchnama',\n",
       " 'Ek Hasina Thi']"
      ]
     },
     "execution_count": 17,
     "metadata": {},
     "output_type": "execute_result"
    }
   ],
   "source": [
    "Name = []\n",
    "\n",
    "for i in soup_indian_movies.find_all('h3',class_='lister-item-header'):\n",
    "    Name.append(i.text.split('\\n')[2])\n",
    "    \n",
    "Name"
   ]
  },
  {
   "cell_type": "code",
   "execution_count": 18,
   "metadata": {},
   "outputs": [
    {
     "data": {
      "text/plain": [
       "['2006',\n",
       " '2009',\n",
       " '2007',\n",
       " '2001',\n",
       " '2004',\n",
       " '2001',\n",
       " '2012',\n",
       " '2012',\n",
       " '1971',\n",
       " '2003',\n",
       " '2008',\n",
       " '1994',\n",
       " '1975',\n",
       " '2013',\n",
       " '2000',\n",
       " '2010',\n",
       " '2012',\n",
       " '2005',\n",
       " '2007',\n",
       " '2006',\n",
       " '1992',\n",
       " '2011',\n",
       " '2012',\n",
       " '1995',\n",
       " '2006',\n",
       " '2006',\n",
       " '2005',\n",
       " '2013',\n",
       " '2004',\n",
       " '2002',\n",
       " '1979',\n",
       " '2009',\n",
       " '1983',\n",
       " '2012',\n",
       " '1960',\n",
       " '2009',\n",
       " '2006',\n",
       " '2007',\n",
       " '1957',\n",
       " '2002',\n",
       " '1983',\n",
       " '1988',\n",
       " '1998',\n",
       " '2012',\n",
       " '2004',\n",
       " '1999',\n",
       " '2003',\n",
       " '2008',\n",
       " '1999',\n",
       " '2003',\n",
       " '1982',\n",
       " '2013',\n",
       " '2012',\n",
       " '1975',\n",
       " '2007',\n",
       " '2003',\n",
       " '2003',\n",
       " '2008',\n",
       " '1978',\n",
       " '1976',\n",
       " '1965',\n",
       " '2013',\n",
       " '1975',\n",
       " '2013',\n",
       " '1968',\n",
       " '2008',\n",
       " '2004',\n",
       " '2013',\n",
       " '1951',\n",
       " '1955',\n",
       " '1998',\n",
       " '1998',\n",
       " '1989',\n",
       " '2008',\n",
       " '2000',\n",
       " '2003',\n",
       " '2005',\n",
       " '2007',\n",
       " '1972',\n",
       " '2007',\n",
       " '1987',\n",
       " '2008',\n",
       " '1998',\n",
       " 'I 2005',\n",
       " '2011',\n",
       " '1990',\n",
       " '2010',\n",
       " '1988',\n",
       " '2003',\n",
       " '1973',\n",
       " '2005',\n",
       " '2007',\n",
       " '1957',\n",
       " '2008',\n",
       " '2011',\n",
       " '2009',\n",
       " '1995',\n",
       " '1977',\n",
       " '2011',\n",
       " '2004']"
      ]
     },
     "execution_count": 18,
     "metadata": {},
     "output_type": "execute_result"
    }
   ],
   "source": [
    "Rating = []\n",
    "\n",
    "for i in soup_indian_movies.find_all('span',class_='lister-item-year text-muted unbold'):\n",
    "    Rating.append(i.text.replace('(','').replace(')',''))\n",
    "    \n",
    "Rating"
   ]
  },
  {
   "cell_type": "code",
   "execution_count": 50,
   "metadata": {},
   "outputs": [
    {
     "data": {
      "text/plain": [
       "['8.1',\n",
       " '8.5',\n",
       " '8.4',\n",
       " '8.1',\n",
       " '8.3',\n",
       " '8.1',\n",
       " '8.2',\n",
       " '8.2',\n",
       " '8.1',\n",
       " '8.1',\n",
       " '8.1',\n",
       " '8.1',\n",
       " '8.1',\n",
       " '8.3',\n",
       " '8.1',\n",
       " '8.1',\n",
       " '8.1',\n",
       " '8.2',\n",
       " '8.2',\n",
       " '8.3',\n",
       " '8.2',\n",
       " '8.2',\n",
       " '8.2',\n",
       " '8.1',\n",
       " '8.1',\n",
       " '8.1',\n",
       " '8.1',\n",
       " '7.8',\n",
       " '8.5',\n",
       " '8',\n",
       " '8.6',\n",
       " '8',\n",
       " '8.4',\n",
       " '8.2',\n",
       " '8.2',\n",
       " '8',\n",
       " '8',\n",
       " '7.9',\n",
       " '8.3',\n",
       " '8.2',\n",
       " '8.4',\n",
       " '7.9',\n",
       " '8.3',\n",
       " '7.8',\n",
       " '7.9',\n",
       " '8',\n",
       " '8',\n",
       " '7.7',\n",
       " '8.1',\n",
       " '7.8',\n",
       " '8.3',\n",
       " '7.7',\n",
       " '7.9',\n",
       " '8.3',\n",
       " '7.9',\n",
       " '8.1',\n",
       " '7.9',\n",
       " '7.8',\n",
       " '7.7',\n",
       " '8.3',\n",
       " '8.4',\n",
       " '7.6',\n",
       " '8',\n",
       " '8.1',\n",
       " '8.1',\n",
       " '7.7',\n",
       " '7.9',\n",
       " '7.9',\n",
       " '7.8',\n",
       " '7.9',\n",
       " '7.7',\n",
       " '7.6',\n",
       " '7.8',\n",
       " '7.8',\n",
       " '8',\n",
       " '8',\n",
       " '7.4',\n",
       " '7.7',\n",
       " '8.1',\n",
       " '7.6',\n",
       " '7.8',\n",
       " '7.6',\n",
       " '7.9',\n",
       " '7.7',\n",
       " '7.9',\n",
       " '7.6',\n",
       " '8',\n",
       " '7.5',\n",
       " '7.8',\n",
       " '7.8',\n",
       " '7.6',\n",
       " '7.6',\n",
       " '7.8',\n",
       " '7.5',\n",
       " '7.6',\n",
       " '7.6',\n",
       " '7.4',\n",
       " '7.5',\n",
       " '7.7',\n",
       " '7.5']"
      ]
     },
     "execution_count": 50,
     "metadata": {},
     "output_type": "execute_result"
    }
   ],
   "source": [
    "Year = []\n",
    "\n",
    "for i in soup_indian_movies.find_all('div',class_='ipl-rating-star small'):\n",
    "    Year.append(i.text.split('\\n')[8])\n",
    "    \n",
    "    \n",
    "Year"
   ]
  },
  {
   "cell_type": "code",
   "execution_count": 19,
   "metadata": {},
   "outputs": [
    {
     "data": {
      "text/html": [
       "<div>\n",
       "<style scoped>\n",
       "    .dataframe tbody tr th:only-of-type {\n",
       "        vertical-align: middle;\n",
       "    }\n",
       "\n",
       "    .dataframe tbody tr th {\n",
       "        vertical-align: top;\n",
       "    }\n",
       "\n",
       "    .dataframe thead th {\n",
       "        text-align: right;\n",
       "    }\n",
       "</style>\n",
       "<table border=\"1\" class=\"dataframe\">\n",
       "  <thead>\n",
       "    <tr style=\"text-align: right;\">\n",
       "      <th></th>\n",
       "      <th>Name</th>\n",
       "      <th>Rating</th>\n",
       "      <th>Year_of_Release</th>\n",
       "    </tr>\n",
       "  </thead>\n",
       "  <tbody>\n",
       "    <tr>\n",
       "      <th>0</th>\n",
       "      <td>Rang De Basanti</td>\n",
       "      <td>2006</td>\n",
       "      <td>2006</td>\n",
       "    </tr>\n",
       "    <tr>\n",
       "      <th>1</th>\n",
       "      <td>3 Idiots</td>\n",
       "      <td>2009</td>\n",
       "      <td>2001</td>\n",
       "    </tr>\n",
       "    <tr>\n",
       "      <th>2</th>\n",
       "      <td>Taare Zameen Par</td>\n",
       "      <td>2007</td>\n",
       "      <td>2001</td>\n",
       "    </tr>\n",
       "    <tr>\n",
       "      <th>3</th>\n",
       "      <td>Dil Chahta Hai</td>\n",
       "      <td>2001</td>\n",
       "      <td>2012</td>\n",
       "    </tr>\n",
       "    <tr>\n",
       "      <th>4</th>\n",
       "      <td>Swades: We, the People</td>\n",
       "      <td>2004</td>\n",
       "      <td>2011</td>\n",
       "    </tr>\n",
       "    <tr>\n",
       "      <th>...</th>\n",
       "      <td>...</td>\n",
       "      <td>...</td>\n",
       "      <td>...</td>\n",
       "    </tr>\n",
       "    <tr>\n",
       "      <th>95</th>\n",
       "      <td>Wake Up Sid</td>\n",
       "      <td>2009</td>\n",
       "      <td>1998</td>\n",
       "    </tr>\n",
       "    <tr>\n",
       "      <th>96</th>\n",
       "      <td>Rangeela</td>\n",
       "      <td>1995</td>\n",
       "      <td>2007</td>\n",
       "    </tr>\n",
       "    <tr>\n",
       "      <th>97</th>\n",
       "      <td>Shatranj Ke Khilari</td>\n",
       "      <td>1977</td>\n",
       "      <td>2006</td>\n",
       "    </tr>\n",
       "    <tr>\n",
       "      <th>98</th>\n",
       "      <td>Pyaar Ka Punchnama</td>\n",
       "      <td>2011</td>\n",
       "      <td>2015</td>\n",
       "    </tr>\n",
       "    <tr>\n",
       "      <th>99</th>\n",
       "      <td>Ek Hasina Thi</td>\n",
       "      <td>2004</td>\n",
       "      <td>1998</td>\n",
       "    </tr>\n",
       "  </tbody>\n",
       "</table>\n",
       "<p>100 rows × 3 columns</p>\n",
       "</div>"
      ],
      "text/plain": [
       "                      Name Rating Year_of_Release\n",
       "0          Rang De Basanti   2006            2006\n",
       "1                 3 Idiots   2009            2001\n",
       "2         Taare Zameen Par   2007            2001\n",
       "3           Dil Chahta Hai   2001            2012\n",
       "4   Swades: We, the People   2004            2011\n",
       "..                     ...    ...             ...\n",
       "95             Wake Up Sid   2009            1998\n",
       "96                Rangeela   1995            2007\n",
       "97     Shatranj Ke Khilari   1977            2006\n",
       "98      Pyaar Ka Punchnama   2011            2015\n",
       "99           Ek Hasina Thi   2004            1998\n",
       "\n",
       "[100 rows x 3 columns]"
      ]
     },
     "execution_count": 19,
     "metadata": {},
     "output_type": "execute_result"
    }
   ],
   "source": [
    "Indian_movies = pd.DataFrame({'Name':Name,'Rating':Rating,'Year_of_Release':Year})\n",
    "Indian_movies"
   ]
  },
  {
   "cell_type": "markdown",
   "metadata": {},
   "source": [
    "# 4) MEESHO BAGS"
   ]
  },
  {
   "cell_type": "code",
   "execution_count": 20,
   "metadata": {},
   "outputs": [
    {
     "data": {
      "text/plain": [
       "<Response [200]>"
      ]
     },
     "execution_count": 20,
     "metadata": {},
     "output_type": "execute_result"
    }
   ],
   "source": [
    "meesho = requests.get('https://meesho.com/bags-ladies/pl/p7vbp')\n",
    "meesho"
   ]
  },
  {
   "cell_type": "code",
   "execution_count": 21,
   "metadata": {},
   "outputs": [],
   "source": [
    "meesho_soup = BeautifulSoup(meesho.content)"
   ]
  },
  {
   "cell_type": "code",
   "execution_count": 22,
   "metadata": {},
   "outputs": [
    {
     "data": {
      "text/plain": [
       "['Elegant Fashionable Women Handbags',\n",
       " 'Elegant Versatile Women Handbags',\n",
       " 'Trendy Fancy Women Handbags',\n",
       " 'Trendy Fashionable Women Handbags',\n",
       " 'Trendy Fashionable Women Handbags',\n",
       " 'Elegant Fancy Women Handbags',\n",
       " 'Classic Alluring Women Handbags',\n",
       " \"Trendy Women's Leather Handbag\",\n",
       " 'Trendy Stylish Women Handbags',\n",
       " 'Classic Fancy Women Handbags',\n",
       " 'Elegant Fashionable Women Handbags',\n",
       " 'Classic Classy Women Handbags',\n",
       " 'Ravishing Fancy Women Handbags',\n",
       " 'Elite Alluring Women Handbags',\n",
       " 'Elite Versatile Women Handbags',\n",
       " 'Graceful Stylish Women Handbags',\n",
       " 'Elite Fashionable Women Handbags',\n",
       " 'Elite Versatile Women Handbags',\n",
       " 'Gorgeous Versatile Women Handbags',\n",
       " 'Trendy Alluring Women Handbags']"
      ]
     },
     "execution_count": 22,
     "metadata": {},
     "output_type": "execute_result"
    }
   ],
   "source": [
    "product_name = []\n",
    "\n",
    "for i in meesho_soup.find_all('p',class_=\"Text__StyledText-sc-oo0kvp-0 cPgaBh NewProductCard__ProductTitle_Desktop-sc-j0e7tu-4 hofZGw NewProductCard__ProductTitle_Desktop-sc-j0e7tu-4 hofZGw\"):\n",
    "    product_name.append(i.text)\n",
    "    \n",
    "product_name"
   ]
  },
  {
   "cell_type": "code",
   "execution_count": 23,
   "metadata": {},
   "outputs": [
    {
     "data": {
      "text/plain": [
       "['303',\n",
       " '615',\n",
       " '4949',\n",
       " '1146',\n",
       " '339',\n",
       " '761',\n",
       " '145',\n",
       " '645',\n",
       " '330',\n",
       " '350',\n",
       " '748',\n",
       " '334',\n",
       " '334',\n",
       " '834',\n",
       " '650',\n",
       " '665',\n",
       " '684',\n",
       " '723',\n",
       " '841',\n",
       " '615']"
      ]
     },
     "execution_count": 23,
     "metadata": {},
     "output_type": "execute_result"
    }
   ],
   "source": [
    "product_price = []\n",
    "\n",
    "for i in meesho_soup.find_all('h5',class_=\"Text__StyledText-sc-oo0kvp-0 dLSsNI\"):\n",
    "    product_price.append(i.text.split('₹')[1])\n",
    "    \n",
    "product_price"
   ]
  },
  {
   "cell_type": "code",
   "execution_count": 24,
   "metadata": {},
   "outputs": [
    {
     "data": {
      "text/plain": [
       "['50 discount on 1st order',\n",
       " '50 discount on 1st order',\n",
       " '50 discount on 1st order',\n",
       " '50 discount on 1st order',\n",
       " '50 discount on 1st order',\n",
       " '50 discount on 1st order',\n",
       " '25 discount on 1st order',\n",
       " '50 discount on 1st order',\n",
       " '50 discount on 1st order',\n",
       " '50 discount on 1st order',\n",
       " '50 discount on 1st order',\n",
       " '50 discount on 1st order',\n",
       " '50 discount on 1st order',\n",
       " '50 discount on 1st order',\n",
       " '50 discount on 1st order',\n",
       " '50 discount on 1st order',\n",
       " '50 discount on 1st order',\n",
       " '50 discount on 1st order',\n",
       " '50 discount on 1st order',\n",
       " '50 discount on 1st order']"
      ]
     },
     "execution_count": 24,
     "metadata": {},
     "output_type": "execute_result"
    }
   ],
   "source": [
    "product_discount = []\n",
    "\n",
    "for i in meesho_soup.find_all('p',class_=\"Text__StyledText-sc-oo0kvp-0 iDRzyZ NewProductCard__DiscountTextParagraph-sc-j0e7tu-16 dppwvY NewProductCard__DiscountTextParagraph-sc-j0e7tu-16 dppwvY\"):\n",
    "    product_discount.append(i.text.split('₹')[1])\n",
    "    \n",
    "product_discount"
   ]
  },
  {
   "cell_type": "code",
   "execution_count": 25,
   "metadata": {},
   "outputs": [
    {
     "data": {
      "text/html": [
       "<div>\n",
       "<style scoped>\n",
       "    .dataframe tbody tr th:only-of-type {\n",
       "        vertical-align: middle;\n",
       "    }\n",
       "\n",
       "    .dataframe tbody tr th {\n",
       "        vertical-align: top;\n",
       "    }\n",
       "\n",
       "    .dataframe thead th {\n",
       "        text-align: right;\n",
       "    }\n",
       "</style>\n",
       "<table border=\"1\" class=\"dataframe\">\n",
       "  <thead>\n",
       "    <tr style=\"text-align: right;\">\n",
       "      <th></th>\n",
       "      <th>product_name</th>\n",
       "      <th>product_price</th>\n",
       "      <th>product_discount</th>\n",
       "    </tr>\n",
       "  </thead>\n",
       "  <tbody>\n",
       "    <tr>\n",
       "      <th>0</th>\n",
       "      <td>Elegant Fashionable Women Handbags</td>\n",
       "      <td>303</td>\n",
       "      <td>50 discount on 1st order</td>\n",
       "    </tr>\n",
       "    <tr>\n",
       "      <th>1</th>\n",
       "      <td>Elegant Versatile Women Handbags</td>\n",
       "      <td>615</td>\n",
       "      <td>50 discount on 1st order</td>\n",
       "    </tr>\n",
       "    <tr>\n",
       "      <th>2</th>\n",
       "      <td>Trendy Fancy Women Handbags</td>\n",
       "      <td>4949</td>\n",
       "      <td>50 discount on 1st order</td>\n",
       "    </tr>\n",
       "    <tr>\n",
       "      <th>3</th>\n",
       "      <td>Trendy Fashionable Women Handbags</td>\n",
       "      <td>1146</td>\n",
       "      <td>50 discount on 1st order</td>\n",
       "    </tr>\n",
       "    <tr>\n",
       "      <th>4</th>\n",
       "      <td>Trendy Fashionable Women Handbags</td>\n",
       "      <td>339</td>\n",
       "      <td>50 discount on 1st order</td>\n",
       "    </tr>\n",
       "    <tr>\n",
       "      <th>5</th>\n",
       "      <td>Elegant Fancy Women Handbags</td>\n",
       "      <td>761</td>\n",
       "      <td>50 discount on 1st order</td>\n",
       "    </tr>\n",
       "    <tr>\n",
       "      <th>6</th>\n",
       "      <td>Classic Alluring Women Handbags</td>\n",
       "      <td>145</td>\n",
       "      <td>25 discount on 1st order</td>\n",
       "    </tr>\n",
       "    <tr>\n",
       "      <th>7</th>\n",
       "      <td>Trendy Women's Leather Handbag</td>\n",
       "      <td>645</td>\n",
       "      <td>50 discount on 1st order</td>\n",
       "    </tr>\n",
       "    <tr>\n",
       "      <th>8</th>\n",
       "      <td>Trendy Stylish Women Handbags</td>\n",
       "      <td>330</td>\n",
       "      <td>50 discount on 1st order</td>\n",
       "    </tr>\n",
       "    <tr>\n",
       "      <th>9</th>\n",
       "      <td>Classic Fancy Women Handbags</td>\n",
       "      <td>350</td>\n",
       "      <td>50 discount on 1st order</td>\n",
       "    </tr>\n",
       "    <tr>\n",
       "      <th>10</th>\n",
       "      <td>Elegant Fashionable Women Handbags</td>\n",
       "      <td>748</td>\n",
       "      <td>50 discount on 1st order</td>\n",
       "    </tr>\n",
       "    <tr>\n",
       "      <th>11</th>\n",
       "      <td>Classic Classy Women Handbags</td>\n",
       "      <td>334</td>\n",
       "      <td>50 discount on 1st order</td>\n",
       "    </tr>\n",
       "    <tr>\n",
       "      <th>12</th>\n",
       "      <td>Ravishing Fancy Women Handbags</td>\n",
       "      <td>334</td>\n",
       "      <td>50 discount on 1st order</td>\n",
       "    </tr>\n",
       "    <tr>\n",
       "      <th>13</th>\n",
       "      <td>Elite Alluring Women Handbags</td>\n",
       "      <td>834</td>\n",
       "      <td>50 discount on 1st order</td>\n",
       "    </tr>\n",
       "    <tr>\n",
       "      <th>14</th>\n",
       "      <td>Elite Versatile Women Handbags</td>\n",
       "      <td>650</td>\n",
       "      <td>50 discount on 1st order</td>\n",
       "    </tr>\n",
       "    <tr>\n",
       "      <th>15</th>\n",
       "      <td>Graceful Stylish Women Handbags</td>\n",
       "      <td>665</td>\n",
       "      <td>50 discount on 1st order</td>\n",
       "    </tr>\n",
       "    <tr>\n",
       "      <th>16</th>\n",
       "      <td>Elite Fashionable Women Handbags</td>\n",
       "      <td>684</td>\n",
       "      <td>50 discount on 1st order</td>\n",
       "    </tr>\n",
       "    <tr>\n",
       "      <th>17</th>\n",
       "      <td>Elite Versatile Women Handbags</td>\n",
       "      <td>723</td>\n",
       "      <td>50 discount on 1st order</td>\n",
       "    </tr>\n",
       "    <tr>\n",
       "      <th>18</th>\n",
       "      <td>Gorgeous Versatile Women Handbags</td>\n",
       "      <td>841</td>\n",
       "      <td>50 discount on 1st order</td>\n",
       "    </tr>\n",
       "    <tr>\n",
       "      <th>19</th>\n",
       "      <td>Trendy Alluring Women Handbags</td>\n",
       "      <td>615</td>\n",
       "      <td>50 discount on 1st order</td>\n",
       "    </tr>\n",
       "  </tbody>\n",
       "</table>\n",
       "</div>"
      ],
      "text/plain": [
       "                          product_name product_price          product_discount\n",
       "0   Elegant Fashionable Women Handbags           303  50 discount on 1st order\n",
       "1     Elegant Versatile Women Handbags           615  50 discount on 1st order\n",
       "2          Trendy Fancy Women Handbags          4949  50 discount on 1st order\n",
       "3    Trendy Fashionable Women Handbags          1146  50 discount on 1st order\n",
       "4    Trendy Fashionable Women Handbags           339  50 discount on 1st order\n",
       "5         Elegant Fancy Women Handbags           761  50 discount on 1st order\n",
       "6      Classic Alluring Women Handbags           145  25 discount on 1st order\n",
       "7       Trendy Women's Leather Handbag           645  50 discount on 1st order\n",
       "8        Trendy Stylish Women Handbags           330  50 discount on 1st order\n",
       "9         Classic Fancy Women Handbags           350  50 discount on 1st order\n",
       "10  Elegant Fashionable Women Handbags           748  50 discount on 1st order\n",
       "11       Classic Classy Women Handbags           334  50 discount on 1st order\n",
       "12      Ravishing Fancy Women Handbags           334  50 discount on 1st order\n",
       "13       Elite Alluring Women Handbags           834  50 discount on 1st order\n",
       "14      Elite Versatile Women Handbags           650  50 discount on 1st order\n",
       "15     Graceful Stylish Women Handbags           665  50 discount on 1st order\n",
       "16    Elite Fashionable Women Handbags           684  50 discount on 1st order\n",
       "17      Elite Versatile Women Handbags           723  50 discount on 1st order\n",
       "18   Gorgeous Versatile Women Handbags           841  50 discount on 1st order\n",
       "19      Trendy Alluring Women Handbags           615  50 discount on 1st order"
      ]
     },
     "execution_count": 25,
     "metadata": {},
     "output_type": "execute_result"
    }
   ],
   "source": [
    "meesho_bags = pd.DataFrame({'product_name':product_name,'product_price':product_price,'product_discount':product_discount})\n",
    "meesho_bags"
   ]
  },
  {
   "cell_type": "markdown",
   "metadata": {},
   "source": [
    "# 5) ODI Men's ICC"
   ]
  },
  {
   "cell_type": "markdown",
   "metadata": {},
   "source": [
    "# a) Top Ten Team"
   ]
  },
  {
   "cell_type": "code",
   "execution_count": 26,
   "metadata": {},
   "outputs": [
    {
     "data": {
      "text/plain": [
       "<Response [200]>"
      ]
     },
     "execution_count": 26,
     "metadata": {},
     "output_type": "execute_result"
    }
   ],
   "source": [
    "ICCmen_page = requests.get('https://www.icc-cricket.com/rankings/mens/team-rankings/odi')\n",
    "ICCmen_page"
   ]
  },
  {
   "cell_type": "code",
   "execution_count": 27,
   "metadata": {},
   "outputs": [],
   "source": [
    "ICCmen_soup = BeautifulSoup(ICCmen_page.content)"
   ]
  },
  {
   "cell_type": "code",
   "execution_count": 28,
   "metadata": {},
   "outputs": [
    {
     "data": {
      "text/plain": [
       "['New Zealand',\n",
       " 'England',\n",
       " 'Australia',\n",
       " 'India',\n",
       " 'South Africa',\n",
       " 'Pakistan',\n",
       " 'Bangladesh',\n",
       " 'Sri Lanka',\n",
       " 'West Indies',\n",
       " 'Afghanistan']"
      ]
     },
     "execution_count": 28,
     "metadata": {},
     "output_type": "execute_result"
    }
   ],
   "source": [
    "team = []\n",
    "\n",
    "for i in ICCmen_soup.find_all('span',class_=\"u-hide-phablet\"):\n",
    "    team.append(i.text)\n",
    "    \n",
    "    \n",
    "team\n",
    "\n",
    "teams = team[:10] \n",
    "teams"
   ]
  },
  {
   "cell_type": "code",
   "execution_count": 29,
   "metadata": {},
   "outputs": [
    {
     "data": {
      "text/plain": [
       "['18', '32', '30', '38', '31', '29', '36', '35', '36', '23']"
      ]
     },
     "execution_count": 29,
     "metadata": {},
     "output_type": "execute_result"
    }
   ],
   "source": [
    "team = []\n",
    "\n",
    "for i in ICCmen_soup.find_all('td',class_=\"rankings-block__banner--matches\"):\n",
    "    team.append(i.text)\n",
    "    \n",
    "    \n",
    "team\n",
    "\n",
    "team_matches = []\n",
    "\n",
    "for i in ICCmen_soup.find_all('tr',class_=\"table-body\"):\n",
    "    team_matches.append(i.text.split('\\n')[7])\n",
    "    \n",
    "    \n",
    "\n",
    "\n",
    "frames = team+team_matches\n",
    "matches = frames[:10]\n",
    "matches"
   ]
  },
  {
   "cell_type": "code",
   "execution_count": 30,
   "metadata": {},
   "outputs": [
    {
     "data": {
      "text/plain": [
       "['2,185',\n",
       " '3,793',\n",
       " '3,430',\n",
       " '4,162',\n",
       " '3,167',\n",
       " '2,757',\n",
       " '3,350',\n",
       " '2,835',\n",
       " '2,788',\n",
       " '1,562']"
      ]
     },
     "execution_count": 30,
     "metadata": {},
     "output_type": "execute_result"
    }
   ],
   "source": [
    "points1 = []\n",
    "\n",
    "for i in ICCmen_soup.find_all('tr',class_=\"rankings-block__banner\"):\n",
    "    points1.append(i.text.split('\\n')[8])\n",
    "    \n",
    "    \n",
    "team_points = []\n",
    "\n",
    "for i in ICCmen_soup.find_all('tr',class_=\"table-body\"):\n",
    "    team_points.append(i.text.split('\\n')[8])\n",
    "    \n",
    "    \n",
    "frame2 = points1+team_points\n",
    "points = frame2[:10]\n",
    "points"
   ]
  },
  {
   "cell_type": "code",
   "execution_count": 31,
   "metadata": {},
   "outputs": [
    {
     "data": {
      "text/plain": [
       "['                            121',\n",
       " '119',\n",
       " '114',\n",
       " '110',\n",
       " '102',\n",
       " '95',\n",
       " '93',\n",
       " '81',\n",
       " '77',\n",
       " '68']"
      ]
     },
     "execution_count": 31,
     "metadata": {},
     "output_type": "execute_result"
    }
   ],
   "source": [
    "ratings1 = []\n",
    "\n",
    "for i in ICCmen_soup.find_all('td',class_=\"rankings-block__banner--rating u-text-right\"):\n",
    "    ratings1.append(i.text.split('\\n')[1])\n",
    "    \n",
    "    \n",
    "team_ratings = []\n",
    "\n",
    "for i in ICCmen_soup.find_all('tr',class_=\"table-body\"):\n",
    "    team_ratings.append(i.text.split('\\n')[9])\n",
    "    \n",
    "    \n",
    "rating = ratings1+team_ratings\n",
    "ratings=rating[:10]\n",
    "ratings"
   ]
  },
  {
   "cell_type": "code",
   "execution_count": 32,
   "metadata": {},
   "outputs": [
    {
     "data": {
      "text/html": [
       "<div>\n",
       "<style scoped>\n",
       "    .dataframe tbody tr th:only-of-type {\n",
       "        vertical-align: middle;\n",
       "    }\n",
       "\n",
       "    .dataframe tbody tr th {\n",
       "        vertical-align: top;\n",
       "    }\n",
       "\n",
       "    .dataframe thead th {\n",
       "        text-align: right;\n",
       "    }\n",
       "</style>\n",
       "<table border=\"1\" class=\"dataframe\">\n",
       "  <thead>\n",
       "    <tr style=\"text-align: right;\">\n",
       "      <th></th>\n",
       "      <th>teams</th>\n",
       "      <th>matches</th>\n",
       "      <th>points</th>\n",
       "      <th>ratings</th>\n",
       "    </tr>\n",
       "  </thead>\n",
       "  <tbody>\n",
       "    <tr>\n",
       "      <th>0</th>\n",
       "      <td>New Zealand</td>\n",
       "      <td>18</td>\n",
       "      <td>2,185</td>\n",
       "      <td>121</td>\n",
       "    </tr>\n",
       "    <tr>\n",
       "      <th>1</th>\n",
       "      <td>England</td>\n",
       "      <td>32</td>\n",
       "      <td>3,793</td>\n",
       "      <td>119</td>\n",
       "    </tr>\n",
       "    <tr>\n",
       "      <th>2</th>\n",
       "      <td>Australia</td>\n",
       "      <td>30</td>\n",
       "      <td>3,430</td>\n",
       "      <td>114</td>\n",
       "    </tr>\n",
       "    <tr>\n",
       "      <th>3</th>\n",
       "      <td>India</td>\n",
       "      <td>38</td>\n",
       "      <td>4,162</td>\n",
       "      <td>110</td>\n",
       "    </tr>\n",
       "    <tr>\n",
       "      <th>4</th>\n",
       "      <td>South Africa</td>\n",
       "      <td>31</td>\n",
       "      <td>3,167</td>\n",
       "      <td>102</td>\n",
       "    </tr>\n",
       "    <tr>\n",
       "      <th>5</th>\n",
       "      <td>Pakistan</td>\n",
       "      <td>29</td>\n",
       "      <td>2,757</td>\n",
       "      <td>95</td>\n",
       "    </tr>\n",
       "    <tr>\n",
       "      <th>6</th>\n",
       "      <td>Bangladesh</td>\n",
       "      <td>36</td>\n",
       "      <td>3,350</td>\n",
       "      <td>93</td>\n",
       "    </tr>\n",
       "    <tr>\n",
       "      <th>7</th>\n",
       "      <td>Sri Lanka</td>\n",
       "      <td>35</td>\n",
       "      <td>2,835</td>\n",
       "      <td>81</td>\n",
       "    </tr>\n",
       "    <tr>\n",
       "      <th>8</th>\n",
       "      <td>West Indies</td>\n",
       "      <td>36</td>\n",
       "      <td>2,788</td>\n",
       "      <td>77</td>\n",
       "    </tr>\n",
       "    <tr>\n",
       "      <th>9</th>\n",
       "      <td>Afghanistan</td>\n",
       "      <td>23</td>\n",
       "      <td>1,562</td>\n",
       "      <td>68</td>\n",
       "    </tr>\n",
       "  </tbody>\n",
       "</table>\n",
       "</div>"
      ],
      "text/plain": [
       "          teams matches points                          ratings\n",
       "0   New Zealand      18  2,185                              121\n",
       "1       England      32  3,793                              119\n",
       "2     Australia      30  3,430                              114\n",
       "3         India      38  4,162                              110\n",
       "4  South Africa      31  3,167                              102\n",
       "5      Pakistan      29  2,757                               95\n",
       "6    Bangladesh      36  3,350                               93\n",
       "7     Sri Lanka      35  2,835                               81\n",
       "8   West Indies      36  2,788                               77\n",
       "9   Afghanistan      23  1,562                               68"
      ]
     },
     "execution_count": 32,
     "metadata": {},
     "output_type": "execute_result"
    }
   ],
   "source": [
    "df1 = pd.DataFrame({'teams':teams,'matches':matches,'points':points,'ratings':ratings})\n",
    "df1"
   ]
  },
  {
   "cell_type": "markdown",
   "metadata": {},
   "source": [
    "# b) Top Ten Batsman"
   ]
  },
  {
   "cell_type": "code",
   "execution_count": 33,
   "metadata": {},
   "outputs": [
    {
     "data": {
      "text/plain": [
       "<Response [200]>"
      ]
     },
     "execution_count": 33,
     "metadata": {},
     "output_type": "execute_result"
    }
   ],
   "source": [
    "batsman_page=requests.get('https://www.icc-cricket.com/rankings/mens/player-rankings/odi/batting')\n",
    "batsman_page"
   ]
  },
  {
   "cell_type": "code",
   "execution_count": 34,
   "metadata": {},
   "outputs": [],
   "source": [
    "soup_batsman=BeautifulSoup(batsman_page.content)"
   ]
  },
  {
   "cell_type": "code",
   "execution_count": 35,
   "metadata": {},
   "outputs": [
    {
     "data": {
      "text/plain": [
       "['Babar Azam',\n",
       " 'Virat Kohli',\n",
       " 'Ross Taylor',\n",
       " 'Rohit Sharma',\n",
       " 'Quinton de Kock',\n",
       " 'Jonny Bairstow',\n",
       " 'Aaron Finch',\n",
       " 'Rassie van der Dussen',\n",
       " 'David Warner',\n",
       " 'Imam-ul-Haq']"
      ]
     },
     "execution_count": 35,
     "metadata": {},
     "output_type": "execute_result"
    }
   ],
   "source": [
    "first_batsman = []\n",
    "\n",
    "for i in soup_batsman.find_all('div',class_=\"rankings-block__banner--name-large\"):\n",
    "    first_batsman.append(i.text)\n",
    "    \n",
    "first_batsman\n",
    "\n",
    "table_batsman = []\n",
    "\n",
    "for i in soup_batsman.find_all('td',class_=\"table-body__cell rankings-table__name name\"):\n",
    "    table_batsman.append(i.text.split('\\n')[1])\n",
    "    \n",
    "tbatsman=table_batsman[:9]\n",
    "batsman = first_batsman+tbatsman\n",
    "batsman"
   ]
  },
  {
   "cell_type": "code",
   "execution_count": 36,
   "metadata": {},
   "outputs": [
    {
     "data": {
      "text/plain": [
       "['PAK', 'IND', 'NZ', 'IND', 'SA', 'ENG', 'AUS', 'SA', 'AUS', 'PAK']"
      ]
     },
     "execution_count": 36,
     "metadata": {},
     "output_type": "execute_result"
    }
   ],
   "source": [
    "first_batsman_team = []\n",
    "\n",
    "for i in soup_batsman.find_all('div',class_=\"rankings-block__banner--nationality\"):\n",
    "    first_batsman_team.append(i.text.split('\\n')[2])\n",
    "    \n",
    "first_batsman_team\n",
    "\n",
    "batsman_team = []\n",
    "\n",
    "for i in soup_batsman.find_all('span',class_=\"table-body__logo-text\"):\n",
    "    batsman_team.append(i.text)\n",
    "    \n",
    "team_batsman = first_batsman_team + batsman_team\n",
    "batsman_teams = team_batsman[:10]\n",
    "batsman_teams\n"
   ]
  },
  {
   "cell_type": "code",
   "execution_count": 37,
   "metadata": {},
   "outputs": [
    {
     "data": {
      "text/plain": [
       "['872', '811', '794', '791', '789', '775', '771', '769', '758', '746']"
      ]
     },
     "execution_count": 37,
     "metadata": {},
     "output_type": "execute_result"
    }
   ],
   "source": [
    "first_batsman_rating = []\n",
    "\n",
    "for i in soup_batsman.find_all('td',class_=\"u-text-left\"):\n",
    "    first_batsman_rating.append(i.text.split('\\n')[1])\n",
    "    \n",
    "first_batsman_rating\n",
    "\n",
    "batsman_rating = []\n",
    "\n",
    "for i in soup_batsman.find_all('td',class_=\"table-body__cell rating\"):\n",
    "    batsman_rating.append(i.text)\n",
    "    \n",
    "batsmans_rating = batsman_rating[:9]\n",
    "batsmans_rating\n",
    "\n",
    "ratings = first_batsman_rating + batsmans_rating\n",
    "ratings"
   ]
  },
  {
   "cell_type": "code",
   "execution_count": 38,
   "metadata": {},
   "outputs": [
    {
     "data": {
      "text/html": [
       "<div>\n",
       "<style scoped>\n",
       "    .dataframe tbody tr th:only-of-type {\n",
       "        vertical-align: middle;\n",
       "    }\n",
       "\n",
       "    .dataframe tbody tr th {\n",
       "        vertical-align: top;\n",
       "    }\n",
       "\n",
       "    .dataframe thead th {\n",
       "        text-align: right;\n",
       "    }\n",
       "</style>\n",
       "<table border=\"1\" class=\"dataframe\">\n",
       "  <thead>\n",
       "    <tr style=\"text-align: right;\">\n",
       "      <th></th>\n",
       "      <th>batsman</th>\n",
       "      <th>batsman_teams</th>\n",
       "      <th>ratings</th>\n",
       "    </tr>\n",
       "  </thead>\n",
       "  <tbody>\n",
       "    <tr>\n",
       "      <th>0</th>\n",
       "      <td>Babar Azam</td>\n",
       "      <td>PAK</td>\n",
       "      <td>872</td>\n",
       "    </tr>\n",
       "    <tr>\n",
       "      <th>1</th>\n",
       "      <td>Virat Kohli</td>\n",
       "      <td>IND</td>\n",
       "      <td>811</td>\n",
       "    </tr>\n",
       "    <tr>\n",
       "      <th>2</th>\n",
       "      <td>Ross Taylor</td>\n",
       "      <td>NZ</td>\n",
       "      <td>794</td>\n",
       "    </tr>\n",
       "    <tr>\n",
       "      <th>3</th>\n",
       "      <td>Rohit Sharma</td>\n",
       "      <td>IND</td>\n",
       "      <td>791</td>\n",
       "    </tr>\n",
       "    <tr>\n",
       "      <th>4</th>\n",
       "      <td>Quinton de Kock</td>\n",
       "      <td>SA</td>\n",
       "      <td>789</td>\n",
       "    </tr>\n",
       "    <tr>\n",
       "      <th>5</th>\n",
       "      <td>Jonny Bairstow</td>\n",
       "      <td>ENG</td>\n",
       "      <td>775</td>\n",
       "    </tr>\n",
       "    <tr>\n",
       "      <th>6</th>\n",
       "      <td>Aaron Finch</td>\n",
       "      <td>AUS</td>\n",
       "      <td>771</td>\n",
       "    </tr>\n",
       "    <tr>\n",
       "      <th>7</th>\n",
       "      <td>Rassie van der Dussen</td>\n",
       "      <td>SA</td>\n",
       "      <td>769</td>\n",
       "    </tr>\n",
       "    <tr>\n",
       "      <th>8</th>\n",
       "      <td>David Warner</td>\n",
       "      <td>AUS</td>\n",
       "      <td>758</td>\n",
       "    </tr>\n",
       "    <tr>\n",
       "      <th>9</th>\n",
       "      <td>Imam-ul-Haq</td>\n",
       "      <td>PAK</td>\n",
       "      <td>746</td>\n",
       "    </tr>\n",
       "  </tbody>\n",
       "</table>\n",
       "</div>"
      ],
      "text/plain": [
       "                 batsman batsman_teams ratings\n",
       "0             Babar Azam           PAK     872\n",
       "1            Virat Kohli           IND     811\n",
       "2            Ross Taylor            NZ     794\n",
       "3           Rohit Sharma           IND     791\n",
       "4        Quinton de Kock            SA     789\n",
       "5         Jonny Bairstow           ENG     775\n",
       "6            Aaron Finch           AUS     771\n",
       "7  Rassie van der Dussen            SA     769\n",
       "8           David Warner           AUS     758\n",
       "9            Imam-ul-Haq           PAK     746"
      ]
     },
     "execution_count": 38,
     "metadata": {},
     "output_type": "execute_result"
    }
   ],
   "source": [
    "Top_batsman = pd.DataFrame({'batsman':batsman,'batsman_teams':batsman_teams,'ratings':ratings})\n",
    "Top_batsman"
   ]
  },
  {
   "cell_type": "markdown",
   "metadata": {},
   "source": [
    "# c) Top Ten Bowlers"
   ]
  },
  {
   "cell_type": "code",
   "execution_count": 39,
   "metadata": {},
   "outputs": [
    {
     "data": {
      "text/plain": [
       "<Response [200]>"
      ]
     },
     "execution_count": 39,
     "metadata": {},
     "output_type": "execute_result"
    }
   ],
   "source": [
    "bowlers_page=requests.get('https://www.icc-cricket.com/rankings/mens/player-rankings/odi/bowling')\n",
    "bowlers_page"
   ]
  },
  {
   "cell_type": "code",
   "execution_count": 40,
   "metadata": {},
   "outputs": [],
   "source": [
    "soup_bowlers=BeautifulSoup(bowlers_page.content)"
   ]
  },
  {
   "cell_type": "code",
   "execution_count": 41,
   "metadata": {},
   "outputs": [
    {
     "data": {
      "text/plain": [
       "['Trent Boult',\n",
       " 'Josh Hazlewood',\n",
       " 'Chris Woakes',\n",
       " 'Matt Henry',\n",
       " 'Mujeeb Ur Rahman',\n",
       " 'Jasprit Bumrah',\n",
       " 'Mehedi Hasan',\n",
       " 'Shakib Al Hasan',\n",
       " 'Adam Zampa',\n",
       " 'Rashid Khan']"
      ]
     },
     "execution_count": 41,
     "metadata": {},
     "output_type": "execute_result"
    }
   ],
   "source": [
    "first_bowler = []\n",
    "\n",
    "for i in soup_bowlers.find_all('div',class_=\"rankings-block__banner--name-large\"):\n",
    "    first_bowler.append(i.text)\n",
    "    \n",
    "first_bowler\n",
    "\n",
    "bowlers = []\n",
    "\n",
    "for i in soup_bowlers.find_all('td',class_=\"table-body__cell rankings-table__name name\"):\n",
    "    bowlers.append(i.text.split('\\n')[1])\n",
    "    \n",
    "tbowlers = bowlers[:9]\n",
    "bowlers = first_bowler + tbowlers\n",
    "bowlers"
   ]
  },
  {
   "cell_type": "code",
   "execution_count": 42,
   "metadata": {},
   "outputs": [
    {
     "data": {
      "text/plain": [
       "['NZ', 'AUS', 'ENG', 'NZ', 'AFG', 'IND', 'BAN', 'BAN', 'AUS', 'AFG']"
      ]
     },
     "execution_count": 42,
     "metadata": {},
     "output_type": "execute_result"
    }
   ],
   "source": [
    "first_team = []\n",
    "\n",
    "for i in soup_bowlers.find_all('div',class_=\"rankings-block__banner--nationality\"):\n",
    "    first_team.append(i.text.split('\\n')[2])\n",
    "    \n",
    "first_team\n",
    "\n",
    "bowlers_team = []\n",
    "\n",
    "for i in soup_bowlers.find_all('span',class_=\"table-body__logo-text\"):\n",
    "    bowlers_team.append(i.text)\n",
    "    \n",
    "tbowlers_team = bowlers_team[:9]\n",
    "team = first_team + tbowlers_team\n",
    "team"
   ]
  },
  {
   "cell_type": "code",
   "execution_count": 43,
   "metadata": {},
   "outputs": [
    {
     "data": {
      "text/plain": [
       "['733', '705', '700', '687', '681', '679', '661', '657', '650', '650']"
      ]
     },
     "execution_count": 43,
     "metadata": {},
     "output_type": "execute_result"
    }
   ],
   "source": [
    "first_rating = []\n",
    "\n",
    "for i in soup_bowlers.find_all('div',class_=\"rankings-block__banner--rating\"):\n",
    "    first_rating.append(i.text)\n",
    "    \n",
    "first_rating\n",
    "\n",
    "bowlers_rating = []\n",
    "\n",
    "for i in soup_bowlers.find_all('td',class_=\"table-body__cell rating\"):\n",
    "    bowlers_rating.append(i.text)\n",
    "    \n",
    "tbowlers_rating = bowlers_rating[:9]\n",
    "rating = first_rating + tbowlers_rating\n",
    "rating"
   ]
  },
  {
   "cell_type": "code",
   "execution_count": 44,
   "metadata": {},
   "outputs": [
    {
     "data": {
      "text/html": [
       "<div>\n",
       "<style scoped>\n",
       "    .dataframe tbody tr th:only-of-type {\n",
       "        vertical-align: middle;\n",
       "    }\n",
       "\n",
       "    .dataframe tbody tr th {\n",
       "        vertical-align: top;\n",
       "    }\n",
       "\n",
       "    .dataframe thead th {\n",
       "        text-align: right;\n",
       "    }\n",
       "</style>\n",
       "<table border=\"1\" class=\"dataframe\">\n",
       "  <thead>\n",
       "    <tr style=\"text-align: right;\">\n",
       "      <th></th>\n",
       "      <th>bowlers</th>\n",
       "      <th>team</th>\n",
       "      <th>rating</th>\n",
       "    </tr>\n",
       "  </thead>\n",
       "  <tbody>\n",
       "    <tr>\n",
       "      <th>0</th>\n",
       "      <td>Trent Boult</td>\n",
       "      <td>NZ</td>\n",
       "      <td>733</td>\n",
       "    </tr>\n",
       "    <tr>\n",
       "      <th>1</th>\n",
       "      <td>Josh Hazlewood</td>\n",
       "      <td>AUS</td>\n",
       "      <td>705</td>\n",
       "    </tr>\n",
       "    <tr>\n",
       "      <th>2</th>\n",
       "      <td>Chris Woakes</td>\n",
       "      <td>ENG</td>\n",
       "      <td>700</td>\n",
       "    </tr>\n",
       "    <tr>\n",
       "      <th>3</th>\n",
       "      <td>Matt Henry</td>\n",
       "      <td>NZ</td>\n",
       "      <td>687</td>\n",
       "    </tr>\n",
       "    <tr>\n",
       "      <th>4</th>\n",
       "      <td>Mujeeb Ur Rahman</td>\n",
       "      <td>AFG</td>\n",
       "      <td>681</td>\n",
       "    </tr>\n",
       "    <tr>\n",
       "      <th>5</th>\n",
       "      <td>Jasprit Bumrah</td>\n",
       "      <td>IND</td>\n",
       "      <td>679</td>\n",
       "    </tr>\n",
       "    <tr>\n",
       "      <th>6</th>\n",
       "      <td>Mehedi Hasan</td>\n",
       "      <td>BAN</td>\n",
       "      <td>661</td>\n",
       "    </tr>\n",
       "    <tr>\n",
       "      <th>7</th>\n",
       "      <td>Shakib Al Hasan</td>\n",
       "      <td>BAN</td>\n",
       "      <td>657</td>\n",
       "    </tr>\n",
       "    <tr>\n",
       "      <th>8</th>\n",
       "      <td>Adam Zampa</td>\n",
       "      <td>AUS</td>\n",
       "      <td>650</td>\n",
       "    </tr>\n",
       "    <tr>\n",
       "      <th>9</th>\n",
       "      <td>Rashid Khan</td>\n",
       "      <td>AFG</td>\n",
       "      <td>650</td>\n",
       "    </tr>\n",
       "  </tbody>\n",
       "</table>\n",
       "</div>"
      ],
      "text/plain": [
       "            bowlers team rating\n",
       "0       Trent Boult   NZ    733\n",
       "1    Josh Hazlewood  AUS    705\n",
       "2      Chris Woakes  ENG    700\n",
       "3        Matt Henry   NZ    687\n",
       "4  Mujeeb Ur Rahman  AFG    681\n",
       "5    Jasprit Bumrah  IND    679\n",
       "6      Mehedi Hasan  BAN    661\n",
       "7   Shakib Al Hasan  BAN    657\n",
       "8        Adam Zampa  AUS    650\n",
       "9       Rashid Khan  AFG    650"
      ]
     },
     "execution_count": 44,
     "metadata": {},
     "output_type": "execute_result"
    }
   ],
   "source": [
    "Top_bowlers = pd.DataFrame({'bowlers':bowlers,'team':team,'rating':rating})\n",
    "Top_bowlers"
   ]
  },
  {
   "cell_type": "markdown",
   "metadata": {},
   "source": [
    "# 6) ODI Women's ICC"
   ]
  },
  {
   "cell_type": "markdown",
   "metadata": {},
   "source": [
    "# a) Top Ten Team"
   ]
  },
  {
   "cell_type": "code",
   "execution_count": 45,
   "metadata": {},
   "outputs": [
    {
     "data": {
      "text/plain": [
       "<Response [200]>"
      ]
     },
     "execution_count": 45,
     "metadata": {},
     "output_type": "execute_result"
    }
   ],
   "source": [
    "ICCWomen_page = requests.get('https://www.icc-cricket.com/rankings/womens/team-rankings/odi')\n",
    "ICCWomen_page"
   ]
  },
  {
   "cell_type": "code",
   "execution_count": 46,
   "metadata": {},
   "outputs": [],
   "source": [
    "soup_women = BeautifulSoup(ICCWomen_page.content)"
   ]
  },
  {
   "cell_type": "code",
   "execution_count": 47,
   "metadata": {},
   "outputs": [
    {
     "data": {
      "text/plain": [
       "['Australia',\n",
       " 'South Africa',\n",
       " 'England',\n",
       " 'India',\n",
       " 'New Zealand',\n",
       " 'West Indies',\n",
       " 'Bangladesh',\n",
       " 'Pakistan',\n",
       " 'Ireland',\n",
       " 'Sri Lanka']"
      ]
     },
     "execution_count": 47,
     "metadata": {},
     "output_type": "execute_result"
    }
   ],
   "source": [
    "team = []\n",
    "\n",
    "for i in soup_women.find_all('span',class_=\"u-hide-phablet\"):\n",
    "    team.append(i.text)\n",
    "    \n",
    "    \n",
    "team\n",
    "\n",
    "teams = team[:10] \n",
    "teams"
   ]
  },
  {
   "cell_type": "code",
   "execution_count": 48,
   "metadata": {},
   "outputs": [
    {
     "data": {
      "text/plain": [
       "['28', '28', '29', '29', '31', '28', '12', '26', '5', '5']"
      ]
     },
     "execution_count": 48,
     "metadata": {},
     "output_type": "execute_result"
    }
   ],
   "source": [
    "team = []\n",
    "\n",
    "for i in soup_women.find_all('td',class_=\"rankings-block__banner--matches\"):\n",
    "    team.append(i.text)\n",
    "    \n",
    "    \n",
    "team\n",
    "\n",
    "team_matches = []\n",
    "\n",
    "for i in soup_women.find_all('tr',class_=\"table-body\"):\n",
    "    team_matches.append(i.text.split('\\n')[7])\n",
    "    \n",
    "    \n",
    "\n",
    "\n",
    "frames = team+team_matches\n",
    "matches = frames[:10]\n",
    "matches"
   ]
  },
  {
   "cell_type": "code",
   "execution_count": 49,
   "metadata": {},
   "outputs": [
    {
     "data": {
      "text/plain": [
       "['4,663',\n",
       " '3,504',\n",
       " '3,425',\n",
       " '2,890',\n",
       " '3,018',\n",
       " '2,478',\n",
       " '935',\n",
       " '1,753',\n",
       " '240',\n",
       " '233']"
      ]
     },
     "execution_count": 49,
     "metadata": {},
     "output_type": "execute_result"
    }
   ],
   "source": [
    "points1 = []\n",
    "\n",
    "for i in soup_women.find_all('tr',class_=\"rankings-block__banner\"):\n",
    "    points1.append(i.text.split('\\n')[8])\n",
    "    \n",
    "    \n",
    "team_points = []\n",
    "\n",
    "for i in soup_women.find_all('tr',class_=\"table-body\"):\n",
    "    team_points.append(i.text.split('\\n')[8])\n",
    "    \n",
    "    \n",
    "frame2 = points1+team_points\n",
    "points = frame2[:10]\n",
    "points"
   ]
  },
  {
   "cell_type": "code",
   "execution_count": 50,
   "metadata": {},
   "outputs": [
    {
     "data": {
      "text/plain": [
       "['                            167',\n",
       " '125',\n",
       " '118',\n",
       " '100',\n",
       " '97',\n",
       " '89',\n",
       " '78',\n",
       " '67',\n",
       " '48',\n",
       " '47']"
      ]
     },
     "execution_count": 50,
     "metadata": {},
     "output_type": "execute_result"
    }
   ],
   "source": [
    "ratings1 = []\n",
    "\n",
    "for i in soup_women.find_all('td',class_=\"rankings-block__banner--rating u-text-right\"):\n",
    "    ratings1.append(i.text.split('\\n')[1])\n",
    "    \n",
    "    \n",
    "team_ratings = []\n",
    "\n",
    "for i in soup_women.find_all('tr',class_=\"table-body\"):\n",
    "    team_ratings.append(i.text.split('\\n')[9])\n",
    "    \n",
    "    \n",
    "rating = ratings1+team_ratings\n",
    "ratings=rating[:10]\n",
    "ratings"
   ]
  },
  {
   "cell_type": "code",
   "execution_count": 51,
   "metadata": {},
   "outputs": [
    {
     "data": {
      "text/html": [
       "<div>\n",
       "<style scoped>\n",
       "    .dataframe tbody tr th:only-of-type {\n",
       "        vertical-align: middle;\n",
       "    }\n",
       "\n",
       "    .dataframe tbody tr th {\n",
       "        vertical-align: top;\n",
       "    }\n",
       "\n",
       "    .dataframe thead th {\n",
       "        text-align: right;\n",
       "    }\n",
       "</style>\n",
       "<table border=\"1\" class=\"dataframe\">\n",
       "  <thead>\n",
       "    <tr style=\"text-align: right;\">\n",
       "      <th></th>\n",
       "      <th>teams</th>\n",
       "      <th>matches</th>\n",
       "      <th>points</th>\n",
       "      <th>ratings</th>\n",
       "    </tr>\n",
       "  </thead>\n",
       "  <tbody>\n",
       "    <tr>\n",
       "      <th>0</th>\n",
       "      <td>Australia</td>\n",
       "      <td>28</td>\n",
       "      <td>4,663</td>\n",
       "      <td>167</td>\n",
       "    </tr>\n",
       "    <tr>\n",
       "      <th>1</th>\n",
       "      <td>South Africa</td>\n",
       "      <td>28</td>\n",
       "      <td>3,504</td>\n",
       "      <td>125</td>\n",
       "    </tr>\n",
       "    <tr>\n",
       "      <th>2</th>\n",
       "      <td>England</td>\n",
       "      <td>29</td>\n",
       "      <td>3,425</td>\n",
       "      <td>118</td>\n",
       "    </tr>\n",
       "    <tr>\n",
       "      <th>3</th>\n",
       "      <td>India</td>\n",
       "      <td>29</td>\n",
       "      <td>2,890</td>\n",
       "      <td>100</td>\n",
       "    </tr>\n",
       "    <tr>\n",
       "      <th>4</th>\n",
       "      <td>New Zealand</td>\n",
       "      <td>31</td>\n",
       "      <td>3,018</td>\n",
       "      <td>97</td>\n",
       "    </tr>\n",
       "    <tr>\n",
       "      <th>5</th>\n",
       "      <td>West Indies</td>\n",
       "      <td>28</td>\n",
       "      <td>2,478</td>\n",
       "      <td>89</td>\n",
       "    </tr>\n",
       "    <tr>\n",
       "      <th>6</th>\n",
       "      <td>Bangladesh</td>\n",
       "      <td>12</td>\n",
       "      <td>935</td>\n",
       "      <td>78</td>\n",
       "    </tr>\n",
       "    <tr>\n",
       "      <th>7</th>\n",
       "      <td>Pakistan</td>\n",
       "      <td>26</td>\n",
       "      <td>1,753</td>\n",
       "      <td>67</td>\n",
       "    </tr>\n",
       "    <tr>\n",
       "      <th>8</th>\n",
       "      <td>Ireland</td>\n",
       "      <td>5</td>\n",
       "      <td>240</td>\n",
       "      <td>48</td>\n",
       "    </tr>\n",
       "    <tr>\n",
       "      <th>9</th>\n",
       "      <td>Sri Lanka</td>\n",
       "      <td>5</td>\n",
       "      <td>233</td>\n",
       "      <td>47</td>\n",
       "    </tr>\n",
       "  </tbody>\n",
       "</table>\n",
       "</div>"
      ],
      "text/plain": [
       "          teams matches points                          ratings\n",
       "0     Australia      28  4,663                              167\n",
       "1  South Africa      28  3,504                              125\n",
       "2       England      29  3,425                              118\n",
       "3         India      29  2,890                              100\n",
       "4   New Zealand      31  3,018                               97\n",
       "5   West Indies      28  2,478                               89\n",
       "6    Bangladesh      12    935                               78\n",
       "7      Pakistan      26  1,753                               67\n",
       "8       Ireland       5    240                               48\n",
       "9     Sri Lanka       5    233                               47"
      ]
     },
     "execution_count": 51,
     "metadata": {},
     "output_type": "execute_result"
    }
   ],
   "source": [
    "df1 = pd.DataFrame({'teams':teams,'matches':matches,'points':points,'ratings':ratings})\n",
    "df1"
   ]
  },
  {
   "cell_type": "markdown",
   "metadata": {},
   "source": [
    "# b) Top Ten Batting"
   ]
  },
  {
   "cell_type": "code",
   "execution_count": 52,
   "metadata": {},
   "outputs": [
    {
     "data": {
      "text/plain": [
       "<Response [200]>"
      ]
     },
     "execution_count": 52,
     "metadata": {},
     "output_type": "execute_result"
    }
   ],
   "source": [
    "ICCwomen_batting = requests.get('https://www.icc-cricket.com/rankings/womens/player-rankings/odi/batting')\n",
    "ICCwomen_batting"
   ]
  },
  {
   "cell_type": "code",
   "execution_count": 53,
   "metadata": {},
   "outputs": [],
   "source": [
    "batting_soup = BeautifulSoup(ICCwomen_batting.content)"
   ]
  },
  {
   "cell_type": "code",
   "execution_count": 54,
   "metadata": {},
   "outputs": [
    {
     "data": {
      "text/plain": [
       "['Laura Wolvaardt',\n",
       " 'Beth Mooney',\n",
       " 'Meg Lanning',\n",
       " 'Natalie Sciver',\n",
       " 'Alyssa Healy',\n",
       " 'Mithali Raj',\n",
       " 'Rachael Haynes',\n",
       " 'Tammy Beaumont',\n",
       " 'Amy Satterthwaite',\n",
       " 'Smriti Mandhana']"
      ]
     },
     "execution_count": 54,
     "metadata": {},
     "output_type": "execute_result"
    }
   ],
   "source": [
    "first_bating = []\n",
    "\n",
    "for i in batting_soup.find_all('div',class_=\"rankings-block__banner--name-large\"):\n",
    "    first_bating.append(i.text)\n",
    "    \n",
    "first_bating\n",
    "\n",
    "table_bating = []\n",
    "\n",
    "for i in batting_soup.find_all('td',class_=\"table-body__cell rankings-table__name name\"):\n",
    "    table_bating.append(i.text.split('\\n')[1])\n",
    "    \n",
    "tbats=table_bating[:9]\n",
    "player = first_bating+tbats\n",
    "player"
   ]
  },
  {
   "cell_type": "code",
   "execution_count": 55,
   "metadata": {},
   "outputs": [
    {
     "data": {
      "text/plain": [
       "['SA', 'AUS', 'AUS', 'ENG', 'AUS', 'IND', 'AUS', 'ENG', 'NZ', 'IND']"
      ]
     },
     "execution_count": 55,
     "metadata": {},
     "output_type": "execute_result"
    }
   ],
   "source": [
    "first_team = []\n",
    "\n",
    "for i in batting_soup.find_all('div',class_=\"rankings-block__banner--nationality\"):\n",
    "    first_team.append(i.text.split('\\n')[2])\n",
    "    \n",
    "first_team\n",
    "\n",
    "batting_team = []\n",
    "\n",
    "for i in batting_soup.find_all('span',class_=\"table-body__logo-text\"):\n",
    "    batting_team.append(i.text)\n",
    "    \n",
    "team_batting = first_team + batting_team\n",
    "teams = team_batting[:10]\n",
    "teams"
   ]
  },
  {
   "cell_type": "code",
   "execution_count": 56,
   "metadata": {},
   "outputs": [
    {
     "data": {
      "text/plain": [
       "['740', '726', '718', '705', '703', '686', '684', '682', '681', '669']"
      ]
     },
     "execution_count": 56,
     "metadata": {},
     "output_type": "execute_result"
    }
   ],
   "source": [
    "first_batting_rating = []\n",
    "\n",
    "for i in batting_soup.find_all('td',class_=\"u-text-left\"):\n",
    "    first_batting_rating.append(i.text.split('\\n')[1])\n",
    "    \n",
    "first_batting_rating\n",
    "\n",
    "batting_rating = []\n",
    "\n",
    "for i in batting_soup.find_all('td',class_=\"table-body__cell rating\"):\n",
    "    batting_rating.append(i.text)\n",
    "    \n",
    "bat_rating = batting_rating[:9]\n",
    "bat_rating\n",
    "\n",
    "ratings = first_batting_rating + bat_rating\n",
    "ratings"
   ]
  },
  {
   "cell_type": "code",
   "execution_count": 57,
   "metadata": {},
   "outputs": [
    {
     "data": {
      "text/html": [
       "<div>\n",
       "<style scoped>\n",
       "    .dataframe tbody tr th:only-of-type {\n",
       "        vertical-align: middle;\n",
       "    }\n",
       "\n",
       "    .dataframe tbody tr th {\n",
       "        vertical-align: top;\n",
       "    }\n",
       "\n",
       "    .dataframe thead th {\n",
       "        text-align: right;\n",
       "    }\n",
       "</style>\n",
       "<table border=\"1\" class=\"dataframe\">\n",
       "  <thead>\n",
       "    <tr style=\"text-align: right;\">\n",
       "      <th></th>\n",
       "      <th>player</th>\n",
       "      <th>teams</th>\n",
       "      <th>ratings</th>\n",
       "    </tr>\n",
       "  </thead>\n",
       "  <tbody>\n",
       "    <tr>\n",
       "      <th>0</th>\n",
       "      <td>Laura Wolvaardt</td>\n",
       "      <td>SA</td>\n",
       "      <td>740</td>\n",
       "    </tr>\n",
       "    <tr>\n",
       "      <th>1</th>\n",
       "      <td>Beth Mooney</td>\n",
       "      <td>AUS</td>\n",
       "      <td>726</td>\n",
       "    </tr>\n",
       "    <tr>\n",
       "      <th>2</th>\n",
       "      <td>Meg Lanning</td>\n",
       "      <td>AUS</td>\n",
       "      <td>718</td>\n",
       "    </tr>\n",
       "    <tr>\n",
       "      <th>3</th>\n",
       "      <td>Natalie Sciver</td>\n",
       "      <td>ENG</td>\n",
       "      <td>705</td>\n",
       "    </tr>\n",
       "    <tr>\n",
       "      <th>4</th>\n",
       "      <td>Alyssa Healy</td>\n",
       "      <td>AUS</td>\n",
       "      <td>703</td>\n",
       "    </tr>\n",
       "    <tr>\n",
       "      <th>5</th>\n",
       "      <td>Mithali Raj</td>\n",
       "      <td>IND</td>\n",
       "      <td>686</td>\n",
       "    </tr>\n",
       "    <tr>\n",
       "      <th>6</th>\n",
       "      <td>Rachael Haynes</td>\n",
       "      <td>AUS</td>\n",
       "      <td>684</td>\n",
       "    </tr>\n",
       "    <tr>\n",
       "      <th>7</th>\n",
       "      <td>Tammy Beaumont</td>\n",
       "      <td>ENG</td>\n",
       "      <td>682</td>\n",
       "    </tr>\n",
       "    <tr>\n",
       "      <th>8</th>\n",
       "      <td>Amy Satterthwaite</td>\n",
       "      <td>NZ</td>\n",
       "      <td>681</td>\n",
       "    </tr>\n",
       "    <tr>\n",
       "      <th>9</th>\n",
       "      <td>Smriti Mandhana</td>\n",
       "      <td>IND</td>\n",
       "      <td>669</td>\n",
       "    </tr>\n",
       "  </tbody>\n",
       "</table>\n",
       "</div>"
      ],
      "text/plain": [
       "              player teams ratings\n",
       "0    Laura Wolvaardt    SA     740\n",
       "1        Beth Mooney   AUS     726\n",
       "2        Meg Lanning   AUS     718\n",
       "3     Natalie Sciver   ENG     705\n",
       "4       Alyssa Healy   AUS     703\n",
       "5        Mithali Raj   IND     686\n",
       "6     Rachael Haynes   AUS     684\n",
       "7     Tammy Beaumont   ENG     682\n",
       "8  Amy Satterthwaite    NZ     681\n",
       "9    Smriti Mandhana   IND     669"
      ]
     },
     "execution_count": 57,
     "metadata": {},
     "output_type": "execute_result"
    }
   ],
   "source": [
    "Top_players = pd.DataFrame({'player':player,'teams':teams,'ratings':ratings})\n",
    "Top_players"
   ]
  },
  {
   "cell_type": "markdown",
   "metadata": {},
   "source": [
    "# c) Top Ten Bowlers"
   ]
  },
  {
   "cell_type": "code",
   "execution_count": 58,
   "metadata": {},
   "outputs": [
    {
     "data": {
      "text/plain": [
       "<Response [200]>"
      ]
     },
     "execution_count": 58,
     "metadata": {},
     "output_type": "execute_result"
    }
   ],
   "source": [
    "bowlers_page=requests.get('https://www.icc-cricket.com/rankings/womens/player-rankings/odi/bowling')\n",
    "bowlers_page"
   ]
  },
  {
   "cell_type": "code",
   "execution_count": 59,
   "metadata": {},
   "outputs": [],
   "source": [
    "soup_bowlers=BeautifulSoup(bowlers_page.content)"
   ]
  },
  {
   "cell_type": "code",
   "execution_count": 60,
   "metadata": {},
   "outputs": [
    {
     "data": {
      "text/plain": [
       "['Sophie Ecclestone',\n",
       " 'Jess Jonassen',\n",
       " 'Shabnim Ismail',\n",
       " 'Megan Schutt',\n",
       " 'Jhulan Goswami',\n",
       " 'Marizanne Kapp',\n",
       " 'Ayabonga Khaka',\n",
       " 'Kate Cross',\n",
       " 'Ellyse Perry',\n",
       " 'Hayley Matthews']"
      ]
     },
     "execution_count": 60,
     "metadata": {},
     "output_type": "execute_result"
    }
   ],
   "source": [
    "first_bowler = []\n",
    "\n",
    "for i in soup_bowlers.find_all('div',class_=\"rankings-block__banner--name-large\"):\n",
    "    first_bowler.append(i.text)\n",
    "    \n",
    "first_bowler\n",
    "\n",
    "bowlers = []\n",
    "\n",
    "for i in soup_bowlers.find_all('td',class_=\"table-body__cell rankings-table__name name\"):\n",
    "    bowlers.append(i.text.split('\\n')[1])\n",
    "    \n",
    "tbowlers = bowlers[:9]\n",
    "bowlers = first_bowler + tbowlers\n",
    "bowlers"
   ]
  },
  {
   "cell_type": "code",
   "execution_count": 61,
   "metadata": {},
   "outputs": [
    {
     "data": {
      "text/plain": [
       "['ENG', 'AUS', 'SA', 'AUS', 'IND', 'SA', 'SA', 'ENG', 'AUS', 'WI']"
      ]
     },
     "execution_count": 61,
     "metadata": {},
     "output_type": "execute_result"
    }
   ],
   "source": [
    "first_team = []\n",
    "\n",
    "for i in soup_bowlers.find_all('div',class_=\"rankings-block__banner--nationality\"):\n",
    "    first_team.append(i.text.split('\\n')[2])\n",
    "    \n",
    "first_team\n",
    "\n",
    "bowlers_team = []\n",
    "\n",
    "for i in soup_bowlers.find_all('span',class_=\"table-body__logo-text\"):\n",
    "    bowlers_team.append(i.text)\n",
    "    \n",
    "tbowlers_team = bowlers_team[:9]\n",
    "team = first_team + tbowlers_team\n",
    "team"
   ]
  },
  {
   "cell_type": "code",
   "execution_count": 62,
   "metadata": {},
   "outputs": [
    {
     "data": {
      "text/plain": [
       "['787', '727', '724', '706', '663', '660', '650', '626', '623', '622']"
      ]
     },
     "execution_count": 62,
     "metadata": {},
     "output_type": "execute_result"
    }
   ],
   "source": [
    "first_rating = []\n",
    "\n",
    "for i in soup_bowlers.find_all('div',class_=\"rankings-block__banner--rating\"):\n",
    "    first_rating.append(i.text)\n",
    "    \n",
    "first_rating\n",
    "\n",
    "bowlers_rating = []\n",
    "\n",
    "for i in soup_bowlers.find_all('td',class_=\"table-body__cell rating\"):\n",
    "    bowlers_rating.append(i.text)\n",
    "    \n",
    "tbowlers_rating = bowlers_rating[:9]\n",
    "rating = first_rating + tbowlers_rating\n",
    "rating"
   ]
  },
  {
   "cell_type": "code",
   "execution_count": 63,
   "metadata": {},
   "outputs": [
    {
     "data": {
      "text/html": [
       "<div>\n",
       "<style scoped>\n",
       "    .dataframe tbody tr th:only-of-type {\n",
       "        vertical-align: middle;\n",
       "    }\n",
       "\n",
       "    .dataframe tbody tr th {\n",
       "        vertical-align: top;\n",
       "    }\n",
       "\n",
       "    .dataframe thead th {\n",
       "        text-align: right;\n",
       "    }\n",
       "</style>\n",
       "<table border=\"1\" class=\"dataframe\">\n",
       "  <thead>\n",
       "    <tr style=\"text-align: right;\">\n",
       "      <th></th>\n",
       "      <th>bowlers</th>\n",
       "      <th>team</th>\n",
       "      <th>rating</th>\n",
       "    </tr>\n",
       "  </thead>\n",
       "  <tbody>\n",
       "    <tr>\n",
       "      <th>0</th>\n",
       "      <td>Sophie Ecclestone</td>\n",
       "      <td>ENG</td>\n",
       "      <td>787</td>\n",
       "    </tr>\n",
       "    <tr>\n",
       "      <th>1</th>\n",
       "      <td>Jess Jonassen</td>\n",
       "      <td>AUS</td>\n",
       "      <td>727</td>\n",
       "    </tr>\n",
       "    <tr>\n",
       "      <th>2</th>\n",
       "      <td>Shabnim Ismail</td>\n",
       "      <td>SA</td>\n",
       "      <td>724</td>\n",
       "    </tr>\n",
       "    <tr>\n",
       "      <th>3</th>\n",
       "      <td>Megan Schutt</td>\n",
       "      <td>AUS</td>\n",
       "      <td>706</td>\n",
       "    </tr>\n",
       "    <tr>\n",
       "      <th>4</th>\n",
       "      <td>Jhulan Goswami</td>\n",
       "      <td>IND</td>\n",
       "      <td>663</td>\n",
       "    </tr>\n",
       "    <tr>\n",
       "      <th>5</th>\n",
       "      <td>Marizanne Kapp</td>\n",
       "      <td>SA</td>\n",
       "      <td>660</td>\n",
       "    </tr>\n",
       "    <tr>\n",
       "      <th>6</th>\n",
       "      <td>Ayabonga Khaka</td>\n",
       "      <td>SA</td>\n",
       "      <td>650</td>\n",
       "    </tr>\n",
       "    <tr>\n",
       "      <th>7</th>\n",
       "      <td>Kate Cross</td>\n",
       "      <td>ENG</td>\n",
       "      <td>626</td>\n",
       "    </tr>\n",
       "    <tr>\n",
       "      <th>8</th>\n",
       "      <td>Ellyse Perry</td>\n",
       "      <td>AUS</td>\n",
       "      <td>623</td>\n",
       "    </tr>\n",
       "    <tr>\n",
       "      <th>9</th>\n",
       "      <td>Hayley Matthews</td>\n",
       "      <td>WI</td>\n",
       "      <td>622</td>\n",
       "    </tr>\n",
       "  </tbody>\n",
       "</table>\n",
       "</div>"
      ],
      "text/plain": [
       "             bowlers team rating\n",
       "0  Sophie Ecclestone  ENG    787\n",
       "1      Jess Jonassen  AUS    727\n",
       "2     Shabnim Ismail   SA    724\n",
       "3       Megan Schutt  AUS    706\n",
       "4     Jhulan Goswami  IND    663\n",
       "5     Marizanne Kapp   SA    660\n",
       "6     Ayabonga Khaka   SA    650\n",
       "7         Kate Cross  ENG    626\n",
       "8       Ellyse Perry  AUS    623\n",
       "9    Hayley Matthews   WI    622"
      ]
     },
     "execution_count": 63,
     "metadata": {},
     "output_type": "execute_result"
    }
   ],
   "source": [
    "Top_bowlers = pd.DataFrame({'bowlers':bowlers,'team':team,'rating':rating})\n",
    "Top_bowlers"
   ]
  },
  {
   "cell_type": "markdown",
   "metadata": {},
   "source": [
    "# 7) coreyms.com"
   ]
  },
  {
   "cell_type": "code",
   "execution_count": 64,
   "metadata": {},
   "outputs": [
    {
     "data": {
      "text/plain": [
       "<Response [200]>"
      ]
     },
     "execution_count": 64,
     "metadata": {},
     "output_type": "execute_result"
    }
   ],
   "source": [
    "coreyms_page = requests.get('https://coreyms.com/')\n",
    "coreyms_page"
   ]
  },
  {
   "cell_type": "code",
   "execution_count": 65,
   "metadata": {},
   "outputs": [],
   "source": [
    "soup_coreyms = BeautifulSoup(coreyms_page.content)"
   ]
  },
  {
   "cell_type": "code",
   "execution_count": 70,
   "metadata": {},
   "outputs": [
    {
     "data": {
      "text/plain": [
       "['Python Tutorial: Zip Files – Creating and Extracting Zip Archives',\n",
       " 'Python Data Science Tutorial: Analyzing the 2019 Stack Overflow Developer Survey',\n",
       " 'Python Multiprocessing Tutorial: Run Code in Parallel Using the Multiprocessing Module',\n",
       " 'Python Threading Tutorial: Run Code Concurrently Using the Threading Module',\n",
       " 'Update (2019-09-03)',\n",
       " 'Python Quick Tip: The Difference Between “==” and “is” (Equality vs Identity)',\n",
       " 'Python Tutorial: Calling External Commands Using the Subprocess Module',\n",
       " 'Visual Studio Code (Windows) – Setting up a Python Development Environment and Complete Overview',\n",
       " 'Visual Studio Code (Mac) – Setting up a Python Development Environment and Complete Overview',\n",
       " 'Clarifying the Issues with Mutable Default Arguments']"
      ]
     },
     "execution_count": 70,
     "metadata": {},
     "output_type": "execute_result"
    }
   ],
   "source": [
    "heading = []\n",
    "\n",
    "for i in soup_coreyms.find_all('a',class_=\"entry-title-link\"):\n",
    "    heading.append(i.text)\n",
    "    \n",
    "    \n",
    "heading"
   ]
  },
  {
   "cell_type": "code",
   "execution_count": 66,
   "metadata": {},
   "outputs": [
    {
     "data": {
      "text/plain": [
       "['November 19, 2019',\n",
       " 'October 17, 2019',\n",
       " 'September 21, 2019',\n",
       " 'September 12, 2019',\n",
       " 'September 3, 2019',\n",
       " 'August 6, 2019',\n",
       " 'July 24, 2019',\n",
       " 'May 1, 2019',\n",
       " 'May 1, 2019',\n",
       " 'April 24, 2019']"
      ]
     },
     "execution_count": 66,
     "metadata": {},
     "output_type": "execute_result"
    }
   ],
   "source": [
    "date = []\n",
    "\n",
    "for i in soup_coreyms.find_all('time',class_=\"entry-time\"):\n",
    "    date.append(i.text)\n",
    "    \n",
    "date"
   ]
  },
  {
   "cell_type": "code",
   "execution_count": 67,
   "metadata": {},
   "outputs": [
    {
     "data": {
      "text/plain": [
       "['\\nIn this video, we will be learning how to create and extract zip archives. We will start by using the zipfile module, and then we will see how to do this using the shutil module. We will learn how to do this with single files and directories, as well as learning how to use gzip as well. Let’s get started…\\n\\n',\n",
       " '\\nIn this Python Programming video, we will be learning how to download and analyze real-world data from the 2019 Stack Overflow Developer Survey. This is terrific practice for anyone getting into the data science field. We will learn different ways to analyze this data and also some best practices. Let’s get started…\\n\\n\\n\\n',\n",
       " '\\nIn this Python Programming video, we will be learning how to run code in parallel using the multiprocessing module. We will also look at how to process multiple high-resolution images at the same time using a ProcessPoolExecutor from the concurrent.futures module. Let’s get started…\\n\\n\\n\\n',\n",
       " '\\nIn this Python Programming video, we will be learning how to run threads concurrently using the threading module. We will also look at how to download multiple high-resolution images online using a ThreadPoolExecutor from the concurrent.futures module. Let’s get started…\\n\\n\\n\\n',\n",
       " '\\nHey everyone. I wanted to give you an update on my videos. I will be releasing videos on threading and multiprocessing within the next week. Thanks so much for your patience. I currently have a temporary recording studio setup at my Airbnb that will allow me to record and edit the threading/multiprocessing videos. I am going to be moving into my new house in 10 days and once I have my recording studio setup then you can expect much faster video releases. I really appreciate how patient everyone has been while I go through this move, especially those of you who are contributing monthly through YouTube \\n',\n",
       " '\\nIn this Python Programming Tutorial, we will be learning the difference between using “==” and the “is” keyword when doing comparisons. The difference between these is that “==” checks to see if values are equal, and the “is” keyword checks their identity, which means it’s going to check if the values are identical in terms of being the same object in memory. We’ll learn more in the video. Let’s get started…\\n\\n\\n\\n',\n",
       " '\\nIn this Python Programming Tutorial, we will be learning how to run external commands using the subprocess module from the standard library. We will learn how to run commands, capture the output, handle errors, and also how to pipe output into other commands. Let’s get started…\\n\\n\\n\\n',\n",
       " '\\nIn this Python Programming Tutorial, we will be learning how to set up a Python development environment in VSCode on Windows. VSCode is a very nice free editor for writing Python applications and many developers are now switching over to this editor. In this video, we will learn how to install VSCode, get the Python extension installed, how to change Python interpreters, create virtual environments, format/lint our code, how to use Git within VSCode, how to debug our programs, how unit testing works, and more. We have a lot to cover, so let’s go ahead and get started…\\nVSCode on MacOS – https://youtu.be/06I63_p-2A4\\nTimestamps for topics in this tutorial: Installation – 1:13 Python Extension – 5:48 Switching Interpreters – 10:04 Changing Color Themes – 12:35 VSCode Settings – 16:16 Set Default Python – 21:33 Using Virtual Environments – 25:10 IntelliSense – 29:45 Code Formatting – 32:13 Code Linting – 37:06 Code Runner Extension – 39:42 Git Integration – 47:44 Use Different Terminal – 51:07 Debugging – 58:45 Unit Testing – 1:03:25 Zen Mode – 1:09:55\\n\\n\\n\\n',\n",
       " '\\nIn this Python Programming Tutorial, we will be learning how to set up a Python development environment in VSCode on MacOS. VSCode is a very nice free editor for writing Python applications and many developers are now switching over to this editor. In this video, we will learn how to install VSCode, get the Python extension installed, how to change Python interpreters, create virtual environments, format/lint our code, how to use Git within VSCode, how to debug our programs, how unit testing works, and more. We have a lot to cover, so let’s go ahead and get started…\\nVSCode on Windows – https://youtu.be/-nh9rCzPJ20\\nTimestamps for topics in this tutorial: Installation – 1:11 Python Extension – 6:21 Switching Interpreters – 10:16 Changing Color Themes – 13:08 VSCode Settings – 17:12 Set Default Python – 22:24 Using Virtual Environments – 25:52 IntelliSense – 30:28 Code Formatting – 33:08 Code Linting – 38:01 Code Runner Extension – 40:45 Git Integration – 49:05 Debugging – 58:15 Unit Testing – 1:02:38 Zen Mode – 1:10:42 \\n\\n\\n\\n',\n",
       " '\\nIn this Python Programming Tutorial, we will be clarifying the issues with mutable default arguments. We discussed this in my last video titled “5 Common Python Mistakes and How to Fix Them”, but I received many comments from people who were still confused. So we will be doing a deeper dive to explain exactly what is going on here. Let’s get started…\\n\\n\\n\\n']"
      ]
     },
     "execution_count": 67,
     "metadata": {},
     "output_type": "execute_result"
    }
   ],
   "source": [
    "content = []\n",
    "\n",
    "for i in soup_coreyms.find_all('div',class_=\"entry-content\"):\n",
    "    content.append(i.text)\n",
    "    \n",
    "content"
   ]
  },
  {
   "cell_type": "code",
   "execution_count": 68,
   "metadata": {},
   "outputs": [
    {
     "data": {
      "text/plain": [
       "['z0gguhEmWiY',\n",
       " '_P7X8tMplsw',\n",
       " 'fKl2JW_qrso',\n",
       " 'IEEhzQoKtQU',\n",
       " 'none',\n",
       " 'mO_dS3rXDIs',\n",
       " '2Fp1N6dof0Y',\n",
       " '-nh9rCzPJ20',\n",
       " '06I63_p-2A4',\n",
       " '_JGmemuINww']"
      ]
     },
     "execution_count": 68,
     "metadata": {},
     "output_type": "execute_result"
    }
   ],
   "source": [
    "\n",
    "code = []\n",
    "\n",
    "for i in soup_coreyms.find_all('iframe',class_=\"youtube-player\"):\n",
    "    code.append(i['src'].split('/')[4].split('?')[0])\n",
    "    \n",
    "\n",
    "    \n",
    "code.insert(4,'none')\n",
    "code"
   ]
  },
  {
   "cell_type": "code",
   "execution_count": 71,
   "metadata": {},
   "outputs": [
    {
     "data": {
      "text/html": [
       "<div>\n",
       "<style scoped>\n",
       "    .dataframe tbody tr th:only-of-type {\n",
       "        vertical-align: middle;\n",
       "    }\n",
       "\n",
       "    .dataframe tbody tr th {\n",
       "        vertical-align: top;\n",
       "    }\n",
       "\n",
       "    .dataframe thead th {\n",
       "        text-align: right;\n",
       "    }\n",
       "</style>\n",
       "<table border=\"1\" class=\"dataframe\">\n",
       "  <thead>\n",
       "    <tr style=\"text-align: right;\">\n",
       "      <th></th>\n",
       "      <th>heading</th>\n",
       "      <th>date</th>\n",
       "      <th>content</th>\n",
       "      <th>code</th>\n",
       "    </tr>\n",
       "  </thead>\n",
       "  <tbody>\n",
       "    <tr>\n",
       "      <th>0</th>\n",
       "      <td>Python Tutorial: Zip Files – Creating and Extr...</td>\n",
       "      <td>November 19, 2019</td>\n",
       "      <td>\\nIn this video, we will be learning how to cr...</td>\n",
       "      <td>z0gguhEmWiY</td>\n",
       "    </tr>\n",
       "    <tr>\n",
       "      <th>1</th>\n",
       "      <td>Python Data Science Tutorial: Analyzing the 20...</td>\n",
       "      <td>October 17, 2019</td>\n",
       "      <td>\\nIn this Python Programming video, we will be...</td>\n",
       "      <td>_P7X8tMplsw</td>\n",
       "    </tr>\n",
       "    <tr>\n",
       "      <th>2</th>\n",
       "      <td>Python Multiprocessing Tutorial: Run Code in P...</td>\n",
       "      <td>September 21, 2019</td>\n",
       "      <td>\\nIn this Python Programming video, we will be...</td>\n",
       "      <td>fKl2JW_qrso</td>\n",
       "    </tr>\n",
       "    <tr>\n",
       "      <th>3</th>\n",
       "      <td>Python Threading Tutorial: Run Code Concurrent...</td>\n",
       "      <td>September 12, 2019</td>\n",
       "      <td>\\nIn this Python Programming video, we will be...</td>\n",
       "      <td>IEEhzQoKtQU</td>\n",
       "    </tr>\n",
       "    <tr>\n",
       "      <th>4</th>\n",
       "      <td>Update (2019-09-03)</td>\n",
       "      <td>September 3, 2019</td>\n",
       "      <td>\\nHey everyone. I wanted to give you an update...</td>\n",
       "      <td>none</td>\n",
       "    </tr>\n",
       "    <tr>\n",
       "      <th>5</th>\n",
       "      <td>Python Quick Tip: The Difference Between “==” ...</td>\n",
       "      <td>August 6, 2019</td>\n",
       "      <td>\\nIn this Python Programming Tutorial, we will...</td>\n",
       "      <td>mO_dS3rXDIs</td>\n",
       "    </tr>\n",
       "    <tr>\n",
       "      <th>6</th>\n",
       "      <td>Python Tutorial: Calling External Commands Usi...</td>\n",
       "      <td>July 24, 2019</td>\n",
       "      <td>\\nIn this Python Programming Tutorial, we will...</td>\n",
       "      <td>2Fp1N6dof0Y</td>\n",
       "    </tr>\n",
       "    <tr>\n",
       "      <th>7</th>\n",
       "      <td>Visual Studio Code (Windows) – Setting up a Py...</td>\n",
       "      <td>May 1, 2019</td>\n",
       "      <td>\\nIn this Python Programming Tutorial, we will...</td>\n",
       "      <td>-nh9rCzPJ20</td>\n",
       "    </tr>\n",
       "    <tr>\n",
       "      <th>8</th>\n",
       "      <td>Visual Studio Code (Mac) – Setting up a Python...</td>\n",
       "      <td>May 1, 2019</td>\n",
       "      <td>\\nIn this Python Programming Tutorial, we will...</td>\n",
       "      <td>06I63_p-2A4</td>\n",
       "    </tr>\n",
       "    <tr>\n",
       "      <th>9</th>\n",
       "      <td>Clarifying the Issues with Mutable Default Arg...</td>\n",
       "      <td>April 24, 2019</td>\n",
       "      <td>\\nIn this Python Programming Tutorial, we will...</td>\n",
       "      <td>_JGmemuINww</td>\n",
       "    </tr>\n",
       "  </tbody>\n",
       "</table>\n",
       "</div>"
      ],
      "text/plain": [
       "                                             heading                date  \\\n",
       "0  Python Tutorial: Zip Files – Creating and Extr...   November 19, 2019   \n",
       "1  Python Data Science Tutorial: Analyzing the 20...    October 17, 2019   \n",
       "2  Python Multiprocessing Tutorial: Run Code in P...  September 21, 2019   \n",
       "3  Python Threading Tutorial: Run Code Concurrent...  September 12, 2019   \n",
       "4                                Update (2019-09-03)   September 3, 2019   \n",
       "5  Python Quick Tip: The Difference Between “==” ...      August 6, 2019   \n",
       "6  Python Tutorial: Calling External Commands Usi...       July 24, 2019   \n",
       "7  Visual Studio Code (Windows) – Setting up a Py...         May 1, 2019   \n",
       "8  Visual Studio Code (Mac) – Setting up a Python...         May 1, 2019   \n",
       "9  Clarifying the Issues with Mutable Default Arg...      April 24, 2019   \n",
       "\n",
       "                                             content         code  \n",
       "0  \\nIn this video, we will be learning how to cr...  z0gguhEmWiY  \n",
       "1  \\nIn this Python Programming video, we will be...  _P7X8tMplsw  \n",
       "2  \\nIn this Python Programming video, we will be...  fKl2JW_qrso  \n",
       "3  \\nIn this Python Programming video, we will be...  IEEhzQoKtQU  \n",
       "4  \\nHey everyone. I wanted to give you an update...         none  \n",
       "5  \\nIn this Python Programming Tutorial, we will...  mO_dS3rXDIs  \n",
       "6  \\nIn this Python Programming Tutorial, we will...  2Fp1N6dof0Y  \n",
       "7  \\nIn this Python Programming Tutorial, we will...  -nh9rCzPJ20  \n",
       "8  \\nIn this Python Programming Tutorial, we will...  06I63_p-2A4  \n",
       "9  \\nIn this Python Programming Tutorial, we will...  _JGmemuINww  "
      ]
     },
     "execution_count": 71,
     "metadata": {},
     "output_type": "execute_result"
    }
   ],
   "source": [
    "df = pd.DataFrame({'heading':heading,'date':date,'content':content,'code':code})\n",
    "df"
   ]
  },
  {
   "cell_type": "markdown",
   "metadata": {},
   "source": [
    "# 8) house details"
   ]
  },
  {
   "cell_type": "code",
   "execution_count": 72,
   "metadata": {},
   "outputs": [],
   "source": [
    "house_page = requests.get('https://www.nobroker.in/property/sale/bangalore/multiple?searchParam=W3sibGF0IjoxMi45NzgzNjkyLCJsb24iOjc3LjY0MDgzNTYsInBsYWNlSWQiOiJDaElKa1FOM0dLUVdyanNSTmhCUUpyaEdEN1UiLCJwbGFjZU5hbWUiOiJJbmRpcmFuYWdhciJ9LHsibGF0IjoxMi45MzA3NzM1LCJsb24iOjc3LjU4MzgzMDIsInBsYWNlSWQiOiJDaElKMmRkbFo1Z1ZyanNSaDFCT0FhZi1vcnMiLCJwbGFjZU5hbWUiOiJKYXlhbmFnYXIifSx7ImxhdCI6MTIuOTk4MTczMiwibG9uIjo3Ny41NTMwNDQ1OTk5OTk5OSwicGxhY2VJZCI6IkNoSUp4Zlc0RFBNOXJqc1JLc05URy01cF9RUSIsInBsYWNlTmFtZSI6IlJhamFqaW5hZ2FyIn1d&radius=2.0&city=bangalore&locality=Indiranagar,&locality=Jayanagar,&locality=Rajajinagar')"
   ]
  },
  {
   "cell_type": "code",
   "execution_count": 73,
   "metadata": {},
   "outputs": [
    {
     "data": {
      "text/plain": [
       "<Response [200]>"
      ]
     },
     "execution_count": 73,
     "metadata": {},
     "output_type": "execute_result"
    }
   ],
   "source": [
    "house_page"
   ]
  },
  {
   "cell_type": "code",
   "execution_count": 74,
   "metadata": {},
   "outputs": [],
   "source": [
    "soup_house = BeautifulSoup(house_page.content)"
   ]
  },
  {
   "cell_type": "code",
   "execution_count": 75,
   "metadata": {},
   "outputs": [
    {
     "data": {
      "text/plain": [
       "['2 BHK Apartment  For Sale  In Tarang Parkway Apartment In Basaveshwar Nagar',\n",
       " '2 BHK Flat  For Sale  In Kumar Ashraya Apartments In Jayanagar',\n",
       " '3 BHK Apartment  For Sale  In Brigade Gateway In Rajaji Nagar',\n",
       " '4+ BHK In Independent House  For Sale  In Rajaji Nagar',\n",
       " '4+ BHK In Independent House  For Sale  In Jayanagar',\n",
       " '2 BHK Apartment  For Sale  In Blueberry Apartment In Indiranagar',\n",
       " '3 BHK Apartment  For Sale  In Mayitri Enclave In Jayanagar',\n",
       " '2 BHK Flat  For Sale  In Jains Prakruti, Jayanagar In Jayanagar 7th Block',\n",
       " \"4 BHK In Independent House  For Sale  In Jayanagar 4th 't' Block\",\n",
       " '3 BHK Flat  For Sale  In Benaka Apartments In Indiranagar',\n",
       " '4+ BHK In Independent House  For Sale  In Prakash Nagar, Rajaji Nagar',\n",
       " '2 BHK Apartment  For Sale  In Jains Prakriti In Jayanagar',\n",
       " '2 BHK Flat  For Sale  In Jayanagar Residency In Jayanagar',\n",
       " '4 BHK Flat  For Sale  In Rrbc Piccassso In Jayanagar',\n",
       " '4 BHK Flat  For Sale  In Phoenix  One Bangalore West In Rajajinagar',\n",
       " '4+ BHK In Independent House  For Sale  In Lakshmipuram Indrinagar',\n",
       " '3 BHK Flat  For Sale  In Rajaji Nagar',\n",
       " '3 BHK Flat  For Sale  In  Sgrr Pallavi Pristine In Jayanagar',\n",
       " '3 BHK Flat  For Sale  In Hal 2nd Stage,indiranagar  ',\n",
       " '3 BHK Apartment  For Sale  In Ashiana Gardens Apartments In Indiranagar',\n",
       " '4 BHK Flat  For Sale  In Golfridge In Indira Nagar',\n",
       " '4+ BHK In Independent House  For Sale  In Rajajinagar',\n",
       " '4 BHK In Independent House  For Sale  In Jayanagar',\n",
       " '2 BHK Flat  For Sale  In Aishwaryam Gokula In Govindraja Nagar',\n",
       " '3 BHK Apartment  For Sale  In Admiralty Manor, Indiranagar In Indiranagar']"
      ]
     },
     "execution_count": 75,
     "metadata": {},
     "output_type": "execute_result"
    }
   ],
   "source": [
    "house_title = []\n",
    "\n",
    "for i in soup_house.find_all('span',class_=\"overflow-hidden overflow-ellipsis whitespace-nowrap max-w-80pe po:max-w-full\"):\n",
    "    house_title.append(i.text)\n",
    "    \n",
    "house_title"
   ]
  },
  {
   "cell_type": "code",
   "execution_count": 76,
   "metadata": {},
   "outputs": [
    {
     "name": "stdout",
     "output_type": "stream",
     "text": [
      "25\n"
     ]
    }
   ],
   "source": [
    "print(len(house_title))"
   ]
  },
  {
   "cell_type": "code",
   "execution_count": 77,
   "metadata": {},
   "outputs": [
    {
     "data": {
      "text/plain": [
       "['Explore Nearby',\n",
       " 'Explore Nearby',\n",
       " 'Explore Nearby',\n",
       " 'Explore Nearby',\n",
       " 'Explore Nearby',\n",
       " 'Explore Nearby',\n",
       " 'Explore Nearby',\n",
       " 'Explore Nearby',\n",
       " 'Explore Nearby',\n",
       " 'Explore Nearby',\n",
       " 'Explore Nearby',\n",
       " 'Explore Nearby',\n",
       " 'Explore Nearby',\n",
       " 'Explore Nearby',\n",
       " 'Explore Nearby',\n",
       " 'Explore Nearby',\n",
       " 'Explore Nearby',\n",
       " 'Explore Nearby',\n",
       " 'Explore Nearby',\n",
       " 'Explore Nearby',\n",
       " 'Explore Nearby',\n",
       " 'Explore Nearby',\n",
       " 'Explore Nearby',\n",
       " 'Explore Nearby',\n",
       " 'Explore Nearby']"
      ]
     },
     "execution_count": 77,
     "metadata": {},
     "output_type": "execute_result"
    }
   ],
   "source": [
    "house_location = []\n",
    "\n",
    "for i in soup_house.find_all('a',class_=\"text-default-color align-bottom underline hover:text-primary-color\"):\n",
    "    house_location.append(i.text)\n",
    "\n",
    "    \n",
    "house_location\n"
   ]
  },
  {
   "cell_type": "code",
   "execution_count": 78,
   "metadata": {},
   "outputs": [
    {
     "data": {
      "text/plain": [
       "['Tarang Parkway Apartment\\xa0 2nd Main Rd, Shivanagar, Basaveshwar Nagar, Bengaluru, Karnataka 560010, India',\n",
       " ' Kumar Ashraya Apartments 194, 9th Cross Rd 2nd Block, Jayanagar Bengaluru, Karnataka 560011 India',\n",
       " 'Brigade Gateway\\xa0 Dr Rajkumar Road, Rajaji Nagar, Bengaluru, Karnataka 560055, India',\n",
       " 'Independent House,  6th Cross road,9th main road  Prakash Nagar, Near Metro Station,  BBMP YOGA CENTRE',\n",
       " 'Independent House, TMC Layout behind rajalaxmi kalyana mandira',\n",
       " 'Blueberry Apartment\\xa0 13th E Main Rd, Channakesahava Nagar, HAL 2nd Stage, Doopanahalli, Indiranagar, Bengaluru, Karnataka 560008, India',\n",
       " 'Mayitri Enclave\\xa0 Mayitri Enclave, 39th C, 5T Block, 4th T Block East, Jayanagar, Bengaluru, Karnataka 5600041, India',\n",
       " 'Kanakapura Road, Jayanagar, Bangalore, Karnataka, INDIA.',\n",
       " 'Independent House, SBI Branch Jayanagar 9th blk, Bunny Bakers',\n",
       " '871, 5th Cross Rd, Indira Nagar 1st Stage, Stage 1, Indiranagar, Bengaluru, Karnataka 560038, India',\n",
       " 'Independent House, 6th C cross 3rd main rd near Ayyappa Temple',\n",
       " 'Jains Prakriti\\xa0  Kanakapura Rd, 7th Block West, 7th Block, Jayanagar, Bengaluru, Karnataka 560070, India',\n",
       " 'Jayanagar Residency, K V Layout, LIC Colony, Jayanagar 3rd Block East, Jayanagar, Bengaluru, Karnataka 560011, India',\n",
       " 'Municipal No.152, 18th main road, beside Sai Baba Temple, Jayanagara 9th Block, Jayanagar, Bengaluru, Karnataka 560056, India',\n",
       " 'Dr Rajkumar Rd, opposite Sheraton Hotel, Rajajinagar',\n",
       " 'Independent House, CMH Rd , Near B P Bakery',\n",
       " 'Independent House, 242, 27th cross, 2nd Block, Rajajinagar, Bangalore-560010',\n",
       " '11th Main Road,36 Cross, 4th T Block, Near ,Post office, Jayanagar HPO',\n",
       " 'Standalone building, 16th F main, Hal 2nd stage indrananagr blore ',\n",
       " 'Ashiana Gardens Apartments\\xa0 4, Sri Rama Temple Rd, Channakesahava Nagar, HAL 2nd Stage, Doopanahalli, Indiranagar, Bengaluru, Karnataka 560008, India',\n",
       " 'embassy golf link road',\n",
       " 'Independent House, 6th Cross Rd, 2nd Block  near  SMC Enclave ',\n",
       " 'Independent House, 47th Cross Rd, 8th Block, 1st Phase, Near Maha Lakshmi Temple and Sir M Vishweshwaraiah Cooperative Bank Limited',\n",
       " '1st main govindraja naagar blore 560040',\n",
       " 'Admiralty Manor, Indiranagar\\xa0 Admiralty Manor, 6th Main Rd, Eshwara Layout, Indiranagar, Bengaluru, Karnataka 560008, India']"
      ]
     },
     "execution_count": 78,
     "metadata": {},
     "output_type": "execute_result"
    }
   ],
   "source": [
    "house_area = []\n",
    "\n",
    "for i in soup_house.find_all('div',class_=\"mt-0.5p overflow-hidden overflow-ellipsis whitespace-nowrap max-w-70 text-gray-light leading-4 po:mb-0 po:max-w-95\"):\n",
    "    house_area.append(i.text)\n",
    "\n",
    "    \n",
    "house_area"
   ]
  },
  {
   "cell_type": "code",
   "execution_count": 79,
   "metadata": {},
   "outputs": [
    {
     "data": {
      "text/plain": [
       "['₹57,314/Month',\n",
       " '₹37,827/Month',\n",
       " '₹1.5 Lacs/Month',\n",
       " '₹63,045/Month',\n",
       " '₹2.21 Lacs/Month',\n",
       " '₹87,691/Month',\n",
       " '₹44,705/Month',\n",
       " '₹85,971/Month',\n",
       " '₹1.55 Lacs/Month',\n",
       " '₹48,717/Month',\n",
       " '₹77,374/Month',\n",
       " '₹1.15 Lacs/Month',\n",
       " '₹57,314/Month',\n",
       " '₹3.91 Lacs/Month',\n",
       " '₹2.72 Lacs/Month',\n",
       " '₹63,045/Month',\n",
       " '₹77,374/Month',\n",
       " '₹74,508/Month',\n",
       " '₹2.12 Lacs/Month',\n",
       " '₹80,240/Month',\n",
       " '₹1.63 Lacs/Month',\n",
       " '₹83,679/Month',\n",
       " '₹5.44 Lacs/Month',\n",
       " '₹44,705/Month',\n",
       " '₹91,703/Month']"
      ]
     },
     "execution_count": 79,
     "metadata": {},
     "output_type": "execute_result"
    }
   ],
   "source": [
    "house_EMI = []\n",
    "\n",
    "for i in soup_house.find_all('div',id=\"roomType\"):\n",
    "    house_EMI.append(i.text)\n",
    "    \n",
    "house_EMI"
   ]
  },
  {
   "cell_type": "code",
   "execution_count": 82,
   "metadata": {},
   "outputs": [
    {
     "data": {
      "text/plain": [
       "['1 Crore',\n",
       " '66 Lacs',\n",
       " '2.62 Crores',\n",
       " '1.1 Crores',\n",
       " '3.85 Crores',\n",
       " '1.53 Crores',\n",
       " '78 Lacs',\n",
       " '1.5 Crores',\n",
       " '2.7 Crores',\n",
       " '85 Lacs',\n",
       " '1.35 Crores',\n",
       " '2 Crores',\n",
       " '1 Crore',\n",
       " '6.83 Crores',\n",
       " '4.75 Crores',\n",
       " '1.1 Crores',\n",
       " '1.35 Crores',\n",
       " '1.3 Crores',\n",
       " '3.7 Crores',\n",
       " '1.4 Crores',\n",
       " '2.85 Crores',\n",
       " '1.46 Crores',\n",
       " '9.5 Crores',\n",
       " '78 Lacs',\n",
       " '1.6 Crores']"
      ]
     },
     "execution_count": 82,
     "metadata": {},
     "output_type": "execute_result"
    }
   ],
   "source": [
    "house_price = []\n",
    "\n",
    "for i in soup_house.find_all('div',id=\"minDeposit\"):\n",
    "    house_price.append(i.text.split('₹')[1])\n",
    "    \n",
    "house_price"
   ]
  },
  {
   "cell_type": "code",
   "execution_count": 83,
   "metadata": {},
   "outputs": [
    {
     "data": {
      "text/html": [
       "<div>\n",
       "<style scoped>\n",
       "    .dataframe tbody tr th:only-of-type {\n",
       "        vertical-align: middle;\n",
       "    }\n",
       "\n",
       "    .dataframe tbody tr th {\n",
       "        vertical-align: top;\n",
       "    }\n",
       "\n",
       "    .dataframe thead th {\n",
       "        text-align: right;\n",
       "    }\n",
       "</style>\n",
       "<table border=\"1\" class=\"dataframe\">\n",
       "  <thead>\n",
       "    <tr style=\"text-align: right;\">\n",
       "      <th></th>\n",
       "      <th>titles</th>\n",
       "      <th>locations</th>\n",
       "      <th>area</th>\n",
       "      <th>house_EMI</th>\n",
       "      <th>house_price</th>\n",
       "    </tr>\n",
       "  </thead>\n",
       "  <tbody>\n",
       "    <tr>\n",
       "      <th>0</th>\n",
       "      <td>2 BHK Apartment  For Sale  In Tarang Parkway A...</td>\n",
       "      <td>Explore Nearby</td>\n",
       "      <td>Tarang Parkway Apartment  2nd Main Rd, Shivana...</td>\n",
       "      <td>₹57,314/Month</td>\n",
       "      <td>1 Crore</td>\n",
       "    </tr>\n",
       "    <tr>\n",
       "      <th>1</th>\n",
       "      <td>2 BHK Flat  For Sale  In Kumar Ashraya Apartme...</td>\n",
       "      <td>Explore Nearby</td>\n",
       "      <td>Kumar Ashraya Apartments 194, 9th Cross Rd 2n...</td>\n",
       "      <td>₹37,827/Month</td>\n",
       "      <td>66 Lacs</td>\n",
       "    </tr>\n",
       "    <tr>\n",
       "      <th>2</th>\n",
       "      <td>3 BHK Apartment  For Sale  In Brigade Gateway ...</td>\n",
       "      <td>Explore Nearby</td>\n",
       "      <td>Brigade Gateway  Dr Rajkumar Road, Rajaji Naga...</td>\n",
       "      <td>₹1.5 Lacs/Month</td>\n",
       "      <td>2.62 Crores</td>\n",
       "    </tr>\n",
       "    <tr>\n",
       "      <th>3</th>\n",
       "      <td>4+ BHK In Independent House  For Sale  In Raja...</td>\n",
       "      <td>Explore Nearby</td>\n",
       "      <td>Independent House,  6th Cross road,9th main ro...</td>\n",
       "      <td>₹63,045/Month</td>\n",
       "      <td>1.1 Crores</td>\n",
       "    </tr>\n",
       "    <tr>\n",
       "      <th>4</th>\n",
       "      <td>4+ BHK In Independent House  For Sale  In Jaya...</td>\n",
       "      <td>Explore Nearby</td>\n",
       "      <td>Independent House, TMC Layout behind rajalaxmi...</td>\n",
       "      <td>₹2.21 Lacs/Month</td>\n",
       "      <td>3.85 Crores</td>\n",
       "    </tr>\n",
       "    <tr>\n",
       "      <th>5</th>\n",
       "      <td>2 BHK Apartment  For Sale  In Blueberry Apartm...</td>\n",
       "      <td>Explore Nearby</td>\n",
       "      <td>Blueberry Apartment  13th E Main Rd, Channakes...</td>\n",
       "      <td>₹87,691/Month</td>\n",
       "      <td>1.53 Crores</td>\n",
       "    </tr>\n",
       "    <tr>\n",
       "      <th>6</th>\n",
       "      <td>3 BHK Apartment  For Sale  In Mayitri Enclave ...</td>\n",
       "      <td>Explore Nearby</td>\n",
       "      <td>Mayitri Enclave  Mayitri Enclave, 39th C, 5T B...</td>\n",
       "      <td>₹44,705/Month</td>\n",
       "      <td>78 Lacs</td>\n",
       "    </tr>\n",
       "    <tr>\n",
       "      <th>7</th>\n",
       "      <td>2 BHK Flat  For Sale  In Jains Prakruti, Jayan...</td>\n",
       "      <td>Explore Nearby</td>\n",
       "      <td>Kanakapura Road, Jayanagar, Bangalore, Karnata...</td>\n",
       "      <td>₹85,971/Month</td>\n",
       "      <td>1.5 Crores</td>\n",
       "    </tr>\n",
       "    <tr>\n",
       "      <th>8</th>\n",
       "      <td>4 BHK In Independent House  For Sale  In Jayan...</td>\n",
       "      <td>Explore Nearby</td>\n",
       "      <td>Independent House, SBI Branch Jayanagar 9th bl...</td>\n",
       "      <td>₹1.55 Lacs/Month</td>\n",
       "      <td>2.7 Crores</td>\n",
       "    </tr>\n",
       "    <tr>\n",
       "      <th>9</th>\n",
       "      <td>3 BHK Flat  For Sale  In Benaka Apartments In ...</td>\n",
       "      <td>Explore Nearby</td>\n",
       "      <td>871, 5th Cross Rd, Indira Nagar 1st Stage, Sta...</td>\n",
       "      <td>₹48,717/Month</td>\n",
       "      <td>85 Lacs</td>\n",
       "    </tr>\n",
       "    <tr>\n",
       "      <th>10</th>\n",
       "      <td>4+ BHK In Independent House  For Sale  In Prak...</td>\n",
       "      <td>Explore Nearby</td>\n",
       "      <td>Independent House, 6th C cross 3rd main rd nea...</td>\n",
       "      <td>₹77,374/Month</td>\n",
       "      <td>1.35 Crores</td>\n",
       "    </tr>\n",
       "    <tr>\n",
       "      <th>11</th>\n",
       "      <td>2 BHK Apartment  For Sale  In Jains Prakriti I...</td>\n",
       "      <td>Explore Nearby</td>\n",
       "      <td>Jains Prakriti   Kanakapura Rd, 7th Block West...</td>\n",
       "      <td>₹1.15 Lacs/Month</td>\n",
       "      <td>2 Crores</td>\n",
       "    </tr>\n",
       "    <tr>\n",
       "      <th>12</th>\n",
       "      <td>2 BHK Flat  For Sale  In Jayanagar Residency I...</td>\n",
       "      <td>Explore Nearby</td>\n",
       "      <td>Jayanagar Residency, K V Layout, LIC Colony, J...</td>\n",
       "      <td>₹57,314/Month</td>\n",
       "      <td>1 Crore</td>\n",
       "    </tr>\n",
       "    <tr>\n",
       "      <th>13</th>\n",
       "      <td>4 BHK Flat  For Sale  In Rrbc Piccassso In Jay...</td>\n",
       "      <td>Explore Nearby</td>\n",
       "      <td>Municipal No.152, 18th main road, beside Sai B...</td>\n",
       "      <td>₹3.91 Lacs/Month</td>\n",
       "      <td>6.83 Crores</td>\n",
       "    </tr>\n",
       "    <tr>\n",
       "      <th>14</th>\n",
       "      <td>4 BHK Flat  For Sale  In Phoenix  One Bangalor...</td>\n",
       "      <td>Explore Nearby</td>\n",
       "      <td>Dr Rajkumar Rd, opposite Sheraton Hotel, Rajaj...</td>\n",
       "      <td>₹2.72 Lacs/Month</td>\n",
       "      <td>4.75 Crores</td>\n",
       "    </tr>\n",
       "    <tr>\n",
       "      <th>15</th>\n",
       "      <td>4+ BHK In Independent House  For Sale  In Laks...</td>\n",
       "      <td>Explore Nearby</td>\n",
       "      <td>Independent House, CMH Rd , Near B P Bakery</td>\n",
       "      <td>₹63,045/Month</td>\n",
       "      <td>1.1 Crores</td>\n",
       "    </tr>\n",
       "    <tr>\n",
       "      <th>16</th>\n",
       "      <td>3 BHK Flat  For Sale  In Rajaji Nagar</td>\n",
       "      <td>Explore Nearby</td>\n",
       "      <td>Independent House, 242, 27th cross, 2nd Block,...</td>\n",
       "      <td>₹77,374/Month</td>\n",
       "      <td>1.35 Crores</td>\n",
       "    </tr>\n",
       "    <tr>\n",
       "      <th>17</th>\n",
       "      <td>3 BHK Flat  For Sale  In  Sgrr Pallavi Pristin...</td>\n",
       "      <td>Explore Nearby</td>\n",
       "      <td>11th Main Road,36 Cross, 4th T Block, Near ,Po...</td>\n",
       "      <td>₹74,508/Month</td>\n",
       "      <td>1.3 Crores</td>\n",
       "    </tr>\n",
       "    <tr>\n",
       "      <th>18</th>\n",
       "      <td>3 BHK Flat  For Sale  In Hal 2nd Stage,indiran...</td>\n",
       "      <td>Explore Nearby</td>\n",
       "      <td>Standalone building, 16th F main, Hal 2nd stag...</td>\n",
       "      <td>₹2.12 Lacs/Month</td>\n",
       "      <td>3.7 Crores</td>\n",
       "    </tr>\n",
       "    <tr>\n",
       "      <th>19</th>\n",
       "      <td>3 BHK Apartment  For Sale  In Ashiana Gardens ...</td>\n",
       "      <td>Explore Nearby</td>\n",
       "      <td>Ashiana Gardens Apartments  4, Sri Rama Temple...</td>\n",
       "      <td>₹80,240/Month</td>\n",
       "      <td>1.4 Crores</td>\n",
       "    </tr>\n",
       "    <tr>\n",
       "      <th>20</th>\n",
       "      <td>4 BHK Flat  For Sale  In Golfridge In Indira N...</td>\n",
       "      <td>Explore Nearby</td>\n",
       "      <td>embassy golf link road</td>\n",
       "      <td>₹1.63 Lacs/Month</td>\n",
       "      <td>2.85 Crores</td>\n",
       "    </tr>\n",
       "    <tr>\n",
       "      <th>21</th>\n",
       "      <td>4+ BHK In Independent House  For Sale  In Raja...</td>\n",
       "      <td>Explore Nearby</td>\n",
       "      <td>Independent House, 6th Cross Rd, 2nd Block  ne...</td>\n",
       "      <td>₹83,679/Month</td>\n",
       "      <td>1.46 Crores</td>\n",
       "    </tr>\n",
       "    <tr>\n",
       "      <th>22</th>\n",
       "      <td>4 BHK In Independent House  For Sale  In Jayan...</td>\n",
       "      <td>Explore Nearby</td>\n",
       "      <td>Independent House, 47th Cross Rd, 8th Block, 1...</td>\n",
       "      <td>₹5.44 Lacs/Month</td>\n",
       "      <td>9.5 Crores</td>\n",
       "    </tr>\n",
       "    <tr>\n",
       "      <th>23</th>\n",
       "      <td>2 BHK Flat  For Sale  In Aishwaryam Gokula In ...</td>\n",
       "      <td>Explore Nearby</td>\n",
       "      <td>1st main govindraja naagar blore 560040</td>\n",
       "      <td>₹44,705/Month</td>\n",
       "      <td>78 Lacs</td>\n",
       "    </tr>\n",
       "    <tr>\n",
       "      <th>24</th>\n",
       "      <td>3 BHK Apartment  For Sale  In Admiralty Manor,...</td>\n",
       "      <td>Explore Nearby</td>\n",
       "      <td>Admiralty Manor, Indiranagar  Admiralty Manor,...</td>\n",
       "      <td>₹91,703/Month</td>\n",
       "      <td>1.6 Crores</td>\n",
       "    </tr>\n",
       "  </tbody>\n",
       "</table>\n",
       "</div>"
      ],
      "text/plain": [
       "                                               titles       locations  \\\n",
       "0   2 BHK Apartment  For Sale  In Tarang Parkway A...  Explore Nearby   \n",
       "1   2 BHK Flat  For Sale  In Kumar Ashraya Apartme...  Explore Nearby   \n",
       "2   3 BHK Apartment  For Sale  In Brigade Gateway ...  Explore Nearby   \n",
       "3   4+ BHK In Independent House  For Sale  In Raja...  Explore Nearby   \n",
       "4   4+ BHK In Independent House  For Sale  In Jaya...  Explore Nearby   \n",
       "5   2 BHK Apartment  For Sale  In Blueberry Apartm...  Explore Nearby   \n",
       "6   3 BHK Apartment  For Sale  In Mayitri Enclave ...  Explore Nearby   \n",
       "7   2 BHK Flat  For Sale  In Jains Prakruti, Jayan...  Explore Nearby   \n",
       "8   4 BHK In Independent House  For Sale  In Jayan...  Explore Nearby   \n",
       "9   3 BHK Flat  For Sale  In Benaka Apartments In ...  Explore Nearby   \n",
       "10  4+ BHK In Independent House  For Sale  In Prak...  Explore Nearby   \n",
       "11  2 BHK Apartment  For Sale  In Jains Prakriti I...  Explore Nearby   \n",
       "12  2 BHK Flat  For Sale  In Jayanagar Residency I...  Explore Nearby   \n",
       "13  4 BHK Flat  For Sale  In Rrbc Piccassso In Jay...  Explore Nearby   \n",
       "14  4 BHK Flat  For Sale  In Phoenix  One Bangalor...  Explore Nearby   \n",
       "15  4+ BHK In Independent House  For Sale  In Laks...  Explore Nearby   \n",
       "16              3 BHK Flat  For Sale  In Rajaji Nagar  Explore Nearby   \n",
       "17  3 BHK Flat  For Sale  In  Sgrr Pallavi Pristin...  Explore Nearby   \n",
       "18  3 BHK Flat  For Sale  In Hal 2nd Stage,indiran...  Explore Nearby   \n",
       "19  3 BHK Apartment  For Sale  In Ashiana Gardens ...  Explore Nearby   \n",
       "20  4 BHK Flat  For Sale  In Golfridge In Indira N...  Explore Nearby   \n",
       "21  4+ BHK In Independent House  For Sale  In Raja...  Explore Nearby   \n",
       "22  4 BHK In Independent House  For Sale  In Jayan...  Explore Nearby   \n",
       "23  2 BHK Flat  For Sale  In Aishwaryam Gokula In ...  Explore Nearby   \n",
       "24  3 BHK Apartment  For Sale  In Admiralty Manor,...  Explore Nearby   \n",
       "\n",
       "                                                 area         house_EMI  \\\n",
       "0   Tarang Parkway Apartment  2nd Main Rd, Shivana...     ₹57,314/Month   \n",
       "1    Kumar Ashraya Apartments 194, 9th Cross Rd 2n...     ₹37,827/Month   \n",
       "2   Brigade Gateway  Dr Rajkumar Road, Rajaji Naga...   ₹1.5 Lacs/Month   \n",
       "3   Independent House,  6th Cross road,9th main ro...     ₹63,045/Month   \n",
       "4   Independent House, TMC Layout behind rajalaxmi...  ₹2.21 Lacs/Month   \n",
       "5   Blueberry Apartment  13th E Main Rd, Channakes...     ₹87,691/Month   \n",
       "6   Mayitri Enclave  Mayitri Enclave, 39th C, 5T B...     ₹44,705/Month   \n",
       "7   Kanakapura Road, Jayanagar, Bangalore, Karnata...     ₹85,971/Month   \n",
       "8   Independent House, SBI Branch Jayanagar 9th bl...  ₹1.55 Lacs/Month   \n",
       "9   871, 5th Cross Rd, Indira Nagar 1st Stage, Sta...     ₹48,717/Month   \n",
       "10  Independent House, 6th C cross 3rd main rd nea...     ₹77,374/Month   \n",
       "11  Jains Prakriti   Kanakapura Rd, 7th Block West...  ₹1.15 Lacs/Month   \n",
       "12  Jayanagar Residency, K V Layout, LIC Colony, J...     ₹57,314/Month   \n",
       "13  Municipal No.152, 18th main road, beside Sai B...  ₹3.91 Lacs/Month   \n",
       "14  Dr Rajkumar Rd, opposite Sheraton Hotel, Rajaj...  ₹2.72 Lacs/Month   \n",
       "15        Independent House, CMH Rd , Near B P Bakery     ₹63,045/Month   \n",
       "16  Independent House, 242, 27th cross, 2nd Block,...     ₹77,374/Month   \n",
       "17  11th Main Road,36 Cross, 4th T Block, Near ,Po...     ₹74,508/Month   \n",
       "18  Standalone building, 16th F main, Hal 2nd stag...  ₹2.12 Lacs/Month   \n",
       "19  Ashiana Gardens Apartments  4, Sri Rama Temple...     ₹80,240/Month   \n",
       "20                             embassy golf link road  ₹1.63 Lacs/Month   \n",
       "21  Independent House, 6th Cross Rd, 2nd Block  ne...     ₹83,679/Month   \n",
       "22  Independent House, 47th Cross Rd, 8th Block, 1...  ₹5.44 Lacs/Month   \n",
       "23            1st main govindraja naagar blore 560040     ₹44,705/Month   \n",
       "24  Admiralty Manor, Indiranagar  Admiralty Manor,...     ₹91,703/Month   \n",
       "\n",
       "    house_price  \n",
       "0       1 Crore  \n",
       "1       66 Lacs  \n",
       "2   2.62 Crores  \n",
       "3    1.1 Crores  \n",
       "4   3.85 Crores  \n",
       "5   1.53 Crores  \n",
       "6       78 Lacs  \n",
       "7    1.5 Crores  \n",
       "8    2.7 Crores  \n",
       "9       85 Lacs  \n",
       "10  1.35 Crores  \n",
       "11     2 Crores  \n",
       "12      1 Crore  \n",
       "13  6.83 Crores  \n",
       "14  4.75 Crores  \n",
       "15   1.1 Crores  \n",
       "16  1.35 Crores  \n",
       "17   1.3 Crores  \n",
       "18   3.7 Crores  \n",
       "19   1.4 Crores  \n",
       "20  2.85 Crores  \n",
       "21  1.46 Crores  \n",
       "22   9.5 Crores  \n",
       "23      78 Lacs  \n",
       "24   1.6 Crores  "
      ]
     },
     "execution_count": 83,
     "metadata": {},
     "output_type": "execute_result"
    }
   ],
   "source": [
    "import pandas as pd\n",
    "df = pd.DataFrame({'titles':house_title,'locations':house_location,'area':house_area,'house_EMI':house_EMI,'house_price':house_price})\n",
    "df"
   ]
  },
  {
   "cell_type": "markdown",
   "metadata": {},
   "source": [
    "# 9) dineout restaurent"
   ]
  },
  {
   "cell_type": "code",
   "execution_count": 84,
   "metadata": {},
   "outputs": [
    {
     "data": {
      "text/plain": [
       "<Response [200]>"
      ]
     },
     "execution_count": 84,
     "metadata": {},
     "output_type": "execute_result"
    }
   ],
   "source": [
    "restaurent_page = requests.get('https://www.dineout.co.in/delhi-restaurants/buffet-special')\n",
    "restaurent_page"
   ]
  },
  {
   "cell_type": "code",
   "execution_count": 85,
   "metadata": {},
   "outputs": [],
   "source": [
    "soup_restaurent = BeautifulSoup(restaurent_page.content)"
   ]
  },
  {
   "cell_type": "code",
   "execution_count": 86,
   "metadata": {},
   "outputs": [
    {
     "data": {
      "text/plain": [
       "['Castle Barbeque',\n",
       " 'Jungle Jamboree',\n",
       " 'Castle Barbeque',\n",
       " 'Cafe Knosh',\n",
       " 'The Barbeque Company',\n",
       " 'India Grill',\n",
       " 'Delhi Barbeque',\n",
       " 'The Monarch - Bar Be Que Village',\n",
       " 'World Cafe',\n",
       " 'Indian Grill Room',\n",
       " 'Mad 4 Bar B Que',\n",
       " 'Barbeque 29',\n",
       " 'Glasshouse']"
      ]
     },
     "execution_count": 86,
     "metadata": {},
     "output_type": "execute_result"
    }
   ],
   "source": [
    "Restaurant_name = []\n",
    "\n",
    "for i in soup_restaurent.find_all('a',class_=\"restnt-name ellipsis\"):\n",
    "    Restaurant_name.append(i.text)\n",
    "    \n",
    "Restaurant_name"
   ]
  },
  {
   "cell_type": "code",
   "execution_count": 87,
   "metadata": {},
   "outputs": [
    {
     "data": {
      "text/plain": [
       "13"
      ]
     },
     "execution_count": 87,
     "metadata": {},
     "output_type": "execute_result"
    }
   ],
   "source": [
    "len(Restaurant_name)"
   ]
  },
  {
   "cell_type": "code",
   "execution_count": 88,
   "metadata": {},
   "outputs": [
    {
     "data": {
      "text/plain": [
       "[' North Indian, Chinese',\n",
       " ' North Indian, Asian, Italian',\n",
       " ' Chinese, North Indian',\n",
       " ' Italian, Continental',\n",
       " ' North Indian, Chinese',\n",
       " ' North Indian, Italian',\n",
       " ' North Indian',\n",
       " ' North Indian, Chinese',\n",
       " ' North Indian, Chinese, Continental',\n",
       " ' North Indian, Mughlai',\n",
       " ' North Indian',\n",
       " ' North Indian, Mughlai, Desserts, Beverages',\n",
       " ' European, Italian, Asian, Continental']"
      ]
     },
     "execution_count": 88,
     "metadata": {},
     "output_type": "execute_result"
    }
   ],
   "source": [
    "Restaurant_Cuisine = []\n",
    "\n",
    "for i in soup_restaurent.find_all('span',class_=\"double-line-ellipsis\"):\n",
    "    Restaurant_Cuisine.append(i.text.split('|')[1])\n",
    "    \n",
    "Restaurant_Cuisine"
   ]
  },
  {
   "cell_type": "code",
   "execution_count": 89,
   "metadata": {},
   "outputs": [
    {
     "data": {
      "text/plain": [
       "['Connaught Place, Central Delhi',\n",
       " '3CS Mall,Lajpat Nagar - 3, South Delhi',\n",
       " 'Pacific Mall,Tagore Garden, West Delhi',\n",
       " 'The Leela Ambience Convention Hotel,Shahdara, East Delhi',\n",
       " 'Gardens Galleria,Sector 38A, Noida',\n",
       " 'Hilton Garden Inn,Saket, South Delhi',\n",
       " 'Taurus Sarovar Portico,Mahipalpur, South Delhi',\n",
       " 'Indirapuram Habitat Centre,Indirapuram, Ghaziabad',\n",
       " 'Vibe by The Lalit Traveller,Sector 35, Faridabad',\n",
       " 'Suncity Business Tower,Golf Course Road, Gurgaon',\n",
       " 'Sector 29, Faridabad',\n",
       " 'NIT, Faridabad',\n",
       " 'DoubleTree By Hilton Gurugram Baani Square,Sector 50, Gurgaon']"
      ]
     },
     "execution_count": 89,
     "metadata": {},
     "output_type": "execute_result"
    }
   ],
   "source": [
    "Location = []\n",
    "\n",
    "for i in soup_restaurent.find_all('div',class_=\"restnt-loc ellipsis\"):\n",
    "    Location.append(i.text)\n",
    "    \n",
    "Location"
   ]
  },
  {
   "cell_type": "code",
   "execution_count": 90,
   "metadata": {},
   "outputs": [
    {
     "data": {
      "text/plain": [
       "['3.5',\n",
       " '3.9',\n",
       " '3.9',\n",
       " '4.3',\n",
       " '4',\n",
       " '3.9',\n",
       " '3.7',\n",
       " '3.9',\n",
       " '4.2',\n",
       " '4.3',\n",
       " '3.6',\n",
       " '4.2',\n",
       " '4']"
      ]
     },
     "execution_count": 90,
     "metadata": {},
     "output_type": "execute_result"
    }
   ],
   "source": [
    "Ratings = []\n",
    "\n",
    "for i in soup_restaurent.find_all('div',class_=\"restnt-rating rating-4\"):\n",
    "    Ratings.append(i.text)\n",
    "    \n",
    "Ratings"
   ]
  },
  {
   "cell_type": "code",
   "execution_count": 91,
   "metadata": {},
   "outputs": [
    {
     "data": {
      "text/plain": [
       "['https://im1.dineout.co.in/images/uploads/restaurant/sharpen/8/k/b/p86792-16062953735fbe1f4d3fb7e.jpg?tr=tr:n-medium',\n",
       " 'https://im1.dineout.co.in/images/uploads/restaurant/sharpen/3/h/c/p3643-144497865356209fdd65746.jpg?tr=tr:n-medium',\n",
       " 'https://im1.dineout.co.in/images/uploads/restaurant/sharpen/3/j/o/p38113-15959192065f1fcb666130c.jpg?tr=tr:n-medium',\n",
       " 'https://im1.dineout.co.in/images/uploads/restaurant/sharpen/4/p/m/p406-15438184745c04ccea491bc.jpg?tr=tr:n-medium',\n",
       " 'https://im1.dineout.co.in/images/uploads/restaurant/sharpen/7/p/k/p79307-16051787755fad1597f2bf9.jpg?tr=tr:n-medium',\n",
       " 'https://im1.dineout.co.in/images/uploads/restaurant/sharpen/2/v/t/p2687-1482477169585cce712b90f.jpg?tr=tr:n-medium',\n",
       " 'https://im1.dineout.co.in/images/uploads/restaurant/sharpen/5/v/f/p52501-16006856545f68865616659.jpg?tr=tr:n-medium',\n",
       " 'https://im1.dineout.co.in/images/uploads/restaurant/sharpen/3/n/o/p34822-15599107305cfa594a13c24.jpg?tr=tr:n-medium',\n",
       " 'https://im1.dineout.co.in/images/uploads/restaurant/sharpen/1/p/y/p12366-1466935020576fa6ecdc359.jpg?tr=tr:n-medium',\n",
       " 'https://im1.dineout.co.in/images/uploads/restaurant/sharpen/5/y/d/p549-15291237715b2493bb2a415.jpg?tr=tr:n-medium',\n",
       " 'https://im1.dineout.co.in/images/uploads/restaurant/sharpen/4/n/t/p43488-1647323111623027e763947.jpg?tr=tr:n-medium',\n",
       " 'https://im1.dineout.co.in/images/uploads/restaurant/sharpen/5/w/r/p58842-15624171585d209806d9143.jpg?tr=tr:n-medium',\n",
       " 'https://im1.dineout.co.in/images/uploads/restaurant/sharpen/9/m/a/p9875-1645177960620f6c68ecfef.jpg?tr=tr:n-medium']"
      ]
     },
     "execution_count": 91,
     "metadata": {},
     "output_type": "execute_result"
    }
   ],
   "source": [
    "Image_URL = []\n",
    "\n",
    "for i in soup_restaurent.find_all('img',class_=\"no-img\"):\n",
    "    Image_URL.append(i['data-src'])\n",
    "    \n",
    "Image_URL"
   ]
  },
  {
   "cell_type": "code",
   "execution_count": 92,
   "metadata": {},
   "outputs": [
    {
     "data": {
      "text/html": [
       "<div>\n",
       "<style scoped>\n",
       "    .dataframe tbody tr th:only-of-type {\n",
       "        vertical-align: middle;\n",
       "    }\n",
       "\n",
       "    .dataframe tbody tr th {\n",
       "        vertical-align: top;\n",
       "    }\n",
       "\n",
       "    .dataframe thead th {\n",
       "        text-align: right;\n",
       "    }\n",
       "</style>\n",
       "<table border=\"1\" class=\"dataframe\">\n",
       "  <thead>\n",
       "    <tr style=\"text-align: right;\">\n",
       "      <th></th>\n",
       "      <th>Restaurant_name</th>\n",
       "      <th>Restaurant_Cuisine</th>\n",
       "      <th>Location</th>\n",
       "      <th>Ratings</th>\n",
       "      <th>Image_URL</th>\n",
       "    </tr>\n",
       "  </thead>\n",
       "  <tbody>\n",
       "    <tr>\n",
       "      <th>0</th>\n",
       "      <td>Castle Barbeque</td>\n",
       "      <td>North Indian, Chinese</td>\n",
       "      <td>Connaught Place, Central Delhi</td>\n",
       "      <td>3.5</td>\n",
       "      <td>https://im1.dineout.co.in/images/uploads/resta...</td>\n",
       "    </tr>\n",
       "    <tr>\n",
       "      <th>1</th>\n",
       "      <td>Jungle Jamboree</td>\n",
       "      <td>North Indian, Asian, Italian</td>\n",
       "      <td>3CS Mall,Lajpat Nagar - 3, South Delhi</td>\n",
       "      <td>3.9</td>\n",
       "      <td>https://im1.dineout.co.in/images/uploads/resta...</td>\n",
       "    </tr>\n",
       "    <tr>\n",
       "      <th>2</th>\n",
       "      <td>Castle Barbeque</td>\n",
       "      <td>Chinese, North Indian</td>\n",
       "      <td>Pacific Mall,Tagore Garden, West Delhi</td>\n",
       "      <td>3.9</td>\n",
       "      <td>https://im1.dineout.co.in/images/uploads/resta...</td>\n",
       "    </tr>\n",
       "    <tr>\n",
       "      <th>3</th>\n",
       "      <td>Cafe Knosh</td>\n",
       "      <td>Italian, Continental</td>\n",
       "      <td>The Leela Ambience Convention Hotel,Shahdara, ...</td>\n",
       "      <td>4.3</td>\n",
       "      <td>https://im1.dineout.co.in/images/uploads/resta...</td>\n",
       "    </tr>\n",
       "    <tr>\n",
       "      <th>4</th>\n",
       "      <td>The Barbeque Company</td>\n",
       "      <td>North Indian, Chinese</td>\n",
       "      <td>Gardens Galleria,Sector 38A, Noida</td>\n",
       "      <td>4</td>\n",
       "      <td>https://im1.dineout.co.in/images/uploads/resta...</td>\n",
       "    </tr>\n",
       "    <tr>\n",
       "      <th>5</th>\n",
       "      <td>India Grill</td>\n",
       "      <td>North Indian, Italian</td>\n",
       "      <td>Hilton Garden Inn,Saket, South Delhi</td>\n",
       "      <td>3.9</td>\n",
       "      <td>https://im1.dineout.co.in/images/uploads/resta...</td>\n",
       "    </tr>\n",
       "    <tr>\n",
       "      <th>6</th>\n",
       "      <td>Delhi Barbeque</td>\n",
       "      <td>North Indian</td>\n",
       "      <td>Taurus Sarovar Portico,Mahipalpur, South Delhi</td>\n",
       "      <td>3.7</td>\n",
       "      <td>https://im1.dineout.co.in/images/uploads/resta...</td>\n",
       "    </tr>\n",
       "    <tr>\n",
       "      <th>7</th>\n",
       "      <td>The Monarch - Bar Be Que Village</td>\n",
       "      <td>North Indian, Chinese</td>\n",
       "      <td>Indirapuram Habitat Centre,Indirapuram, Ghaziabad</td>\n",
       "      <td>3.9</td>\n",
       "      <td>https://im1.dineout.co.in/images/uploads/resta...</td>\n",
       "    </tr>\n",
       "    <tr>\n",
       "      <th>8</th>\n",
       "      <td>World Cafe</td>\n",
       "      <td>North Indian, Chinese, Continental</td>\n",
       "      <td>Vibe by The Lalit Traveller,Sector 35, Faridabad</td>\n",
       "      <td>4.2</td>\n",
       "      <td>https://im1.dineout.co.in/images/uploads/resta...</td>\n",
       "    </tr>\n",
       "    <tr>\n",
       "      <th>9</th>\n",
       "      <td>Indian Grill Room</td>\n",
       "      <td>North Indian, Mughlai</td>\n",
       "      <td>Suncity Business Tower,Golf Course Road, Gurgaon</td>\n",
       "      <td>4.3</td>\n",
       "      <td>https://im1.dineout.co.in/images/uploads/resta...</td>\n",
       "    </tr>\n",
       "    <tr>\n",
       "      <th>10</th>\n",
       "      <td>Mad 4 Bar B Que</td>\n",
       "      <td>North Indian</td>\n",
       "      <td>Sector 29, Faridabad</td>\n",
       "      <td>3.6</td>\n",
       "      <td>https://im1.dineout.co.in/images/uploads/resta...</td>\n",
       "    </tr>\n",
       "    <tr>\n",
       "      <th>11</th>\n",
       "      <td>Barbeque 29</td>\n",
       "      <td>North Indian, Mughlai, Desserts, Beverages</td>\n",
       "      <td>NIT, Faridabad</td>\n",
       "      <td>4.2</td>\n",
       "      <td>https://im1.dineout.co.in/images/uploads/resta...</td>\n",
       "    </tr>\n",
       "    <tr>\n",
       "      <th>12</th>\n",
       "      <td>Glasshouse</td>\n",
       "      <td>European, Italian, Asian, Continental</td>\n",
       "      <td>DoubleTree By Hilton Gurugram Baani Square,Sec...</td>\n",
       "      <td>4</td>\n",
       "      <td>https://im1.dineout.co.in/images/uploads/resta...</td>\n",
       "    </tr>\n",
       "  </tbody>\n",
       "</table>\n",
       "</div>"
      ],
      "text/plain": [
       "                     Restaurant_name  \\\n",
       "0                    Castle Barbeque   \n",
       "1                    Jungle Jamboree   \n",
       "2                    Castle Barbeque   \n",
       "3                         Cafe Knosh   \n",
       "4               The Barbeque Company   \n",
       "5                        India Grill   \n",
       "6                     Delhi Barbeque   \n",
       "7   The Monarch - Bar Be Que Village   \n",
       "8                         World Cafe   \n",
       "9                  Indian Grill Room   \n",
       "10                   Mad 4 Bar B Que   \n",
       "11                       Barbeque 29   \n",
       "12                        Glasshouse   \n",
       "\n",
       "                             Restaurant_Cuisine  \\\n",
       "0                         North Indian, Chinese   \n",
       "1                  North Indian, Asian, Italian   \n",
       "2                         Chinese, North Indian   \n",
       "3                          Italian, Continental   \n",
       "4                         North Indian, Chinese   \n",
       "5                         North Indian, Italian   \n",
       "6                                  North Indian   \n",
       "7                         North Indian, Chinese   \n",
       "8            North Indian, Chinese, Continental   \n",
       "9                         North Indian, Mughlai   \n",
       "10                                 North Indian   \n",
       "11   North Indian, Mughlai, Desserts, Beverages   \n",
       "12        European, Italian, Asian, Continental   \n",
       "\n",
       "                                             Location Ratings  \\\n",
       "0                      Connaught Place, Central Delhi     3.5   \n",
       "1              3CS Mall,Lajpat Nagar - 3, South Delhi     3.9   \n",
       "2              Pacific Mall,Tagore Garden, West Delhi     3.9   \n",
       "3   The Leela Ambience Convention Hotel,Shahdara, ...     4.3   \n",
       "4                  Gardens Galleria,Sector 38A, Noida       4   \n",
       "5                Hilton Garden Inn,Saket, South Delhi     3.9   \n",
       "6      Taurus Sarovar Portico,Mahipalpur, South Delhi     3.7   \n",
       "7   Indirapuram Habitat Centre,Indirapuram, Ghaziabad     3.9   \n",
       "8    Vibe by The Lalit Traveller,Sector 35, Faridabad     4.2   \n",
       "9    Suncity Business Tower,Golf Course Road, Gurgaon     4.3   \n",
       "10                               Sector 29, Faridabad     3.6   \n",
       "11                                     NIT, Faridabad     4.2   \n",
       "12  DoubleTree By Hilton Gurugram Baani Square,Sec...       4   \n",
       "\n",
       "                                            Image_URL  \n",
       "0   https://im1.dineout.co.in/images/uploads/resta...  \n",
       "1   https://im1.dineout.co.in/images/uploads/resta...  \n",
       "2   https://im1.dineout.co.in/images/uploads/resta...  \n",
       "3   https://im1.dineout.co.in/images/uploads/resta...  \n",
       "4   https://im1.dineout.co.in/images/uploads/resta...  \n",
       "5   https://im1.dineout.co.in/images/uploads/resta...  \n",
       "6   https://im1.dineout.co.in/images/uploads/resta...  \n",
       "7   https://im1.dineout.co.in/images/uploads/resta...  \n",
       "8   https://im1.dineout.co.in/images/uploads/resta...  \n",
       "9   https://im1.dineout.co.in/images/uploads/resta...  \n",
       "10  https://im1.dineout.co.in/images/uploads/resta...  \n",
       "11  https://im1.dineout.co.in/images/uploads/resta...  \n",
       "12  https://im1.dineout.co.in/images/uploads/resta...  "
      ]
     },
     "execution_count": 92,
     "metadata": {},
     "output_type": "execute_result"
    }
   ],
   "source": [
    "import pandas as pd\n",
    "df_restaurant = pd.DataFrame({'Restaurant_name':Restaurant_name,'Restaurant_Cuisine':Restaurant_Cuisine,'Location':Location,'Ratings':Ratings,'Image_URL':Image_URL})\n",
    "df_restaurant"
   ]
  },
  {
   "cell_type": "markdown",
   "metadata": {},
   "source": [
    "# 10) Bewakoof.com"
   ]
  },
  {
   "cell_type": "code",
   "execution_count": 93,
   "metadata": {},
   "outputs": [
    {
     "data": {
      "text/plain": [
       "<Response [200]>"
      ]
     },
     "execution_count": 93,
     "metadata": {},
     "output_type": "execute_result"
    }
   ],
   "source": [
    "tshirt_page = requests.get('https://www.bewakoof.com/women-clothing')\n",
    "tshirt_page"
   ]
  },
  {
   "cell_type": "code",
   "execution_count": 94,
   "metadata": {},
   "outputs": [],
   "source": [
    "bewakoof_soup = BeautifulSoup(tshirt_page.content)"
   ]
  },
  {
   "cell_type": "code",
   "execution_count": 95,
   "metadata": {},
   "outputs": [
    {
     "data": {
      "text/plain": [
       "[\"Women's White Cotton Long Sleeve Round Neck T-shirt\",\n",
       " \"Women's Olive Rayon Long Sleeve Top\",\n",
       " \"Women's Black Cotton Long Sleeve Round Neck T-shirt\",\n",
       " \"Women's White Rayon Long Sleeve Top\",\n",
       " \"Women's White Cotton Scoop Neck Long Sleeve T-shirt\",\n",
       " \"Women's Black Rayon Long Sleeve Top\",\n",
       " \"Women's White RayonHigh Neck Long Sleeve Top\",\n",
       " 'Never Lose Hope Half Sleeve T-shirt',\n",
       " \"Women's Maroon Rayon Round Neck Long Puff Sleeve Top\",\n",
       " 'Coca Cola Multicolor T-shirt']"
      ]
     },
     "execution_count": 95,
     "metadata": {},
     "output_type": "execute_result"
    }
   ],
   "source": [
    "product_name = []\n",
    "\n",
    "for i in bewakoof_soup.find_all('div',class_=\"productCardDetail\"):\n",
    "    product_name.append(i.text.split('₹')[0])\n",
    "    \n",
    "product_name"
   ]
  },
  {
   "cell_type": "code",
   "execution_count": 96,
   "metadata": {},
   "outputs": [
    {
     "data": {
      "text/plain": [
       "['₹ 534',\n",
       " '₹ 597',\n",
       " '₹ 534',\n",
       " '₹ 597',\n",
       " '₹ 534',\n",
       " '₹ 597',\n",
       " '₹ 534',\n",
       " '₹ 299',\n",
       " '₹ 534',\n",
       " '₹ 499']"
      ]
     },
     "execution_count": 96,
     "metadata": {},
     "output_type": "execute_result"
    }
   ],
   "source": [
    "price = []\n",
    "\n",
    "for i in bewakoof_soup.find_all('span',class_=\"discountedPriceText\"):\n",
    "    price.append(i.text)\n",
    "    \n",
    "price"
   ]
  },
  {
   "cell_type": "code",
   "execution_count": 97,
   "metadata": {},
   "outputs": [
    {
     "data": {
      "text/plain": [
       "['https://images.bewakoof.com/t320/women-s-white-cotton-long-sleeve-round-neck-t-shirt-462374-1640890081-1.jpg',\n",
       " 'https://images.bewakoof.com/t320/women-s-olive-rayon-long-sleeve-top-462373-1640889775-1.jpg',\n",
       " 'https://images.bewakoof.com/t320/women-s-black-cotton-long-sleeve-round-neck-t-shirt-462364-1640890169-1.jpg',\n",
       " 'https://images.bewakoof.com/t320/women-s-white-rayon-long-sleeve-top-462365-1640890254-1.jpg',\n",
       " 'https://images.bewakoof.com/t320/women-s-white-cotton-scoop-neck-long-sleeve-t-shirt-462370-1640890060-1.jpg',\n",
       " 'https://images.bewakoof.com/t320/women-s-black-rayon-long-sleeve-top-462366-1640890408-1.jpg',\n",
       " 'https://images.bewakoof.com/t320/women-s-white-rayonhigh-neck-long-sleeve-top-462372-1640890836-1.jpg',\n",
       " 'https://images.bewakoof.com/t320/never-lose-hope-half-sleeve-t-shirt-463229-1641457028-1.jpg',\n",
       " 'https://images.bewakoof.com/t320/women-s-maroon-rayon-round-neck-long-puff-sleeve-top-462353-1640890811-1.jpg',\n",
       " 'https://images.bewakoof.com/t320/coca-cola-multicolor-463257-1645165752-1.jpg']"
      ]
     },
     "execution_count": 97,
     "metadata": {},
     "output_type": "execute_result"
    }
   ],
   "source": [
    "image_URL = []\n",
    "\n",
    "for i in bewakoof_soup.find_all('img',class_=\"productImgTag\"):\n",
    "    image_URL.append(i['src'])\n",
    "    \n",
    "image_URL"
   ]
  },
  {
   "cell_type": "code",
   "execution_count": 98,
   "metadata": {},
   "outputs": [
    {
     "data": {
      "text/html": [
       "<div>\n",
       "<style scoped>\n",
       "    .dataframe tbody tr th:only-of-type {\n",
       "        vertical-align: middle;\n",
       "    }\n",
       "\n",
       "    .dataframe tbody tr th {\n",
       "        vertical-align: top;\n",
       "    }\n",
       "\n",
       "    .dataframe thead th {\n",
       "        text-align: right;\n",
       "    }\n",
       "</style>\n",
       "<table border=\"1\" class=\"dataframe\">\n",
       "  <thead>\n",
       "    <tr style=\"text-align: right;\">\n",
       "      <th></th>\n",
       "      <th>product_name</th>\n",
       "      <th>price</th>\n",
       "      <th>image_URL</th>\n",
       "    </tr>\n",
       "  </thead>\n",
       "  <tbody>\n",
       "    <tr>\n",
       "      <th>0</th>\n",
       "      <td>Women's White Cotton Long Sleeve Round Neck T-...</td>\n",
       "      <td>₹ 534</td>\n",
       "      <td>https://images.bewakoof.com/t320/women-s-white...</td>\n",
       "    </tr>\n",
       "    <tr>\n",
       "      <th>1</th>\n",
       "      <td>Women's Olive Rayon Long Sleeve Top</td>\n",
       "      <td>₹ 597</td>\n",
       "      <td>https://images.bewakoof.com/t320/women-s-olive...</td>\n",
       "    </tr>\n",
       "    <tr>\n",
       "      <th>2</th>\n",
       "      <td>Women's Black Cotton Long Sleeve Round Neck T-...</td>\n",
       "      <td>₹ 534</td>\n",
       "      <td>https://images.bewakoof.com/t320/women-s-black...</td>\n",
       "    </tr>\n",
       "    <tr>\n",
       "      <th>3</th>\n",
       "      <td>Women's White Rayon Long Sleeve Top</td>\n",
       "      <td>₹ 597</td>\n",
       "      <td>https://images.bewakoof.com/t320/women-s-white...</td>\n",
       "    </tr>\n",
       "    <tr>\n",
       "      <th>4</th>\n",
       "      <td>Women's White Cotton Scoop Neck Long Sleeve T-...</td>\n",
       "      <td>₹ 534</td>\n",
       "      <td>https://images.bewakoof.com/t320/women-s-white...</td>\n",
       "    </tr>\n",
       "    <tr>\n",
       "      <th>5</th>\n",
       "      <td>Women's Black Rayon Long Sleeve Top</td>\n",
       "      <td>₹ 597</td>\n",
       "      <td>https://images.bewakoof.com/t320/women-s-black...</td>\n",
       "    </tr>\n",
       "    <tr>\n",
       "      <th>6</th>\n",
       "      <td>Women's White RayonHigh Neck Long Sleeve Top</td>\n",
       "      <td>₹ 534</td>\n",
       "      <td>https://images.bewakoof.com/t320/women-s-white...</td>\n",
       "    </tr>\n",
       "    <tr>\n",
       "      <th>7</th>\n",
       "      <td>Never Lose Hope Half Sleeve T-shirt</td>\n",
       "      <td>₹ 299</td>\n",
       "      <td>https://images.bewakoof.com/t320/never-lose-ho...</td>\n",
       "    </tr>\n",
       "    <tr>\n",
       "      <th>8</th>\n",
       "      <td>Women's Maroon Rayon Round Neck Long Puff Slee...</td>\n",
       "      <td>₹ 534</td>\n",
       "      <td>https://images.bewakoof.com/t320/women-s-maroo...</td>\n",
       "    </tr>\n",
       "    <tr>\n",
       "      <th>9</th>\n",
       "      <td>Coca Cola Multicolor T-shirt</td>\n",
       "      <td>₹ 499</td>\n",
       "      <td>https://images.bewakoof.com/t320/coca-cola-mul...</td>\n",
       "    </tr>\n",
       "  </tbody>\n",
       "</table>\n",
       "</div>"
      ],
      "text/plain": [
       "                                        product_name  price  \\\n",
       "0  Women's White Cotton Long Sleeve Round Neck T-...  ₹ 534   \n",
       "1                Women's Olive Rayon Long Sleeve Top  ₹ 597   \n",
       "2  Women's Black Cotton Long Sleeve Round Neck T-...  ₹ 534   \n",
       "3                Women's White Rayon Long Sleeve Top  ₹ 597   \n",
       "4  Women's White Cotton Scoop Neck Long Sleeve T-...  ₹ 534   \n",
       "5                Women's Black Rayon Long Sleeve Top  ₹ 597   \n",
       "6       Women's White RayonHigh Neck Long Sleeve Top  ₹ 534   \n",
       "7                Never Lose Hope Half Sleeve T-shirt  ₹ 299   \n",
       "8  Women's Maroon Rayon Round Neck Long Puff Slee...  ₹ 534   \n",
       "9                       Coca Cola Multicolor T-shirt  ₹ 499   \n",
       "\n",
       "                                           image_URL  \n",
       "0  https://images.bewakoof.com/t320/women-s-white...  \n",
       "1  https://images.bewakoof.com/t320/women-s-olive...  \n",
       "2  https://images.bewakoof.com/t320/women-s-black...  \n",
       "3  https://images.bewakoof.com/t320/women-s-white...  \n",
       "4  https://images.bewakoof.com/t320/women-s-white...  \n",
       "5  https://images.bewakoof.com/t320/women-s-black...  \n",
       "6  https://images.bewakoof.com/t320/women-s-white...  \n",
       "7  https://images.bewakoof.com/t320/never-lose-ho...  \n",
       "8  https://images.bewakoof.com/t320/women-s-maroo...  \n",
       "9  https://images.bewakoof.com/t320/coca-cola-mul...  "
      ]
     },
     "execution_count": 98,
     "metadata": {},
     "output_type": "execute_result"
    }
   ],
   "source": [
    "bewakoof_df = pd.DataFrame({'product_name':product_name,'price':price,'image_URL':image_URL})\n",
    "bewakoof_df"
   ]
  }
 ],
 "metadata": {
  "kernelspec": {
   "display_name": "Python 3",
   "language": "python",
   "name": "python3"
  },
  "language_info": {
   "codemirror_mode": {
    "name": "ipython",
    "version": 3
   },
   "file_extension": ".py",
   "mimetype": "text/x-python",
   "name": "python",
   "nbconvert_exporter": "python",
   "pygments_lexer": "ipython3",
   "version": "3.7.6"
  }
 },
 "nbformat": 4,
 "nbformat_minor": 4
}
